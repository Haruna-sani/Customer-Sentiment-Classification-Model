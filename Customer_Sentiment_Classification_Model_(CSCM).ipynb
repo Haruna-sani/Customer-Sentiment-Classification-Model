{
  "nbformat": 4,
  "nbformat_minor": 0,
  "metadata": {
    "colab": {
      "provenance": [],
      "gpuType": "T4"
    },
    "kernelspec": {
      "name": "python3",
      "display_name": "Python 3"
    },
    "language_info": {
      "name": "python"
    },
    "accelerator": "GPU"
  },
  "cells": [
    {
      "cell_type": "code",
      "execution_count": 68,
      "metadata": {
        "id": "4epcrpVYket3"
      },
      "outputs": [],
      "source": [
        "# Import libraries\n",
        "import pandas as pd\n",
        "import numpy as np\n",
        "import re\n",
        "import nltk\n",
        "from nltk.corpus import stopwords\n",
        "import matplotlib.pyplot as plt\n",
        "import seaborn as sns\n",
        "from nltk.stem import WordNetLemmatizer\n",
        "from sklearn.model_selection import train_test_split\n",
        "from sklearn.preprocessing import LabelEncoder\n",
        "from sklearn.feature_extraction.text import TfidfVectorizer\n",
        "from sklearn.ensemble import RandomForestClassifier\n",
        "from sklearn.metrics import accuracy_score, classification_report, confusion_matrix"
      ]
    },
    {
      "cell_type": "code",
      "source": [
        "df = pd.read_csv(\"/content/market_comments.csv\")\n",
        "df.head()"
      ],
      "metadata": {
        "colab": {
          "base_uri": "https://localhost:8080/",
          "height": 293
        },
        "id": "nJheHHhikjDA",
        "outputId": "37c586fb-1776-4db8-cd6f-7c40ba6c4c08"
      },
      "execution_count": 2,
      "outputs": [
        {
          "output_type": "execute_result",
          "data": {
            "text/plain": [
              "   item_category  item_id  brand  user_id        date  \\\n",
              "0            401  4010201    826     2217  2013-06-28   \n",
              "1            403  4030101   1425     1026  2010-07-04   \n",
              "2            401  4010401    124     2769  2010-05-27   \n",
              "3            203  2030301     93      508  2016-10-11   \n",
              "4            205  2050201    656     1049  2010-02-26   \n",
              "\n",
              "                                             comment  rating  tonality  \n",
              "0  2,5 года работала и все...устала! Лампочка гор...     2.0  negative  \n",
              "1  Через 2 месяца после истечении гарантийного ср...     2.0  negative  \n",
              "2  пользуюсь уже три недели. нареканий ни каких н...     4.0  positive  \n",
              "3  Ребят этот системный блок подойдёт для игры кс...     5.0  positive  \n",
              "4  я считаю, что яри замечательный телефон! Прият...     5.0  positive  "
            ],
            "text/html": [
              "\n",
              "  <div id=\"df-c1c64ac7-243e-4cfb-ae99-215bca74e947\" class=\"colab-df-container\">\n",
              "    <div>\n",
              "<style scoped>\n",
              "    .dataframe tbody tr th:only-of-type {\n",
              "        vertical-align: middle;\n",
              "    }\n",
              "\n",
              "    .dataframe tbody tr th {\n",
              "        vertical-align: top;\n",
              "    }\n",
              "\n",
              "    .dataframe thead th {\n",
              "        text-align: right;\n",
              "    }\n",
              "</style>\n",
              "<table border=\"1\" class=\"dataframe\">\n",
              "  <thead>\n",
              "    <tr style=\"text-align: right;\">\n",
              "      <th></th>\n",
              "      <th>item_category</th>\n",
              "      <th>item_id</th>\n",
              "      <th>brand</th>\n",
              "      <th>user_id</th>\n",
              "      <th>date</th>\n",
              "      <th>comment</th>\n",
              "      <th>rating</th>\n",
              "      <th>tonality</th>\n",
              "    </tr>\n",
              "  </thead>\n",
              "  <tbody>\n",
              "    <tr>\n",
              "      <th>0</th>\n",
              "      <td>401</td>\n",
              "      <td>4010201</td>\n",
              "      <td>826</td>\n",
              "      <td>2217</td>\n",
              "      <td>2013-06-28</td>\n",
              "      <td>2,5 года работала и все...устала! Лампочка гор...</td>\n",
              "      <td>2.0</td>\n",
              "      <td>negative</td>\n",
              "    </tr>\n",
              "    <tr>\n",
              "      <th>1</th>\n",
              "      <td>403</td>\n",
              "      <td>4030101</td>\n",
              "      <td>1425</td>\n",
              "      <td>1026</td>\n",
              "      <td>2010-07-04</td>\n",
              "      <td>Через 2 месяца после истечении гарантийного ср...</td>\n",
              "      <td>2.0</td>\n",
              "      <td>negative</td>\n",
              "    </tr>\n",
              "    <tr>\n",
              "      <th>2</th>\n",
              "      <td>401</td>\n",
              "      <td>4010401</td>\n",
              "      <td>124</td>\n",
              "      <td>2769</td>\n",
              "      <td>2010-05-27</td>\n",
              "      <td>пользуюсь уже три недели. нареканий ни каких н...</td>\n",
              "      <td>4.0</td>\n",
              "      <td>positive</td>\n",
              "    </tr>\n",
              "    <tr>\n",
              "      <th>3</th>\n",
              "      <td>203</td>\n",
              "      <td>2030301</td>\n",
              "      <td>93</td>\n",
              "      <td>508</td>\n",
              "      <td>2016-10-11</td>\n",
              "      <td>Ребят этот системный блок подойдёт для игры кс...</td>\n",
              "      <td>5.0</td>\n",
              "      <td>positive</td>\n",
              "    </tr>\n",
              "    <tr>\n",
              "      <th>4</th>\n",
              "      <td>205</td>\n",
              "      <td>2050201</td>\n",
              "      <td>656</td>\n",
              "      <td>1049</td>\n",
              "      <td>2010-02-26</td>\n",
              "      <td>я считаю, что яри замечательный телефон! Прият...</td>\n",
              "      <td>5.0</td>\n",
              "      <td>positive</td>\n",
              "    </tr>\n",
              "  </tbody>\n",
              "</table>\n",
              "</div>\n",
              "    <div class=\"colab-df-buttons\">\n",
              "\n",
              "  <div class=\"colab-df-container\">\n",
              "    <button class=\"colab-df-convert\" onclick=\"convertToInteractive('df-c1c64ac7-243e-4cfb-ae99-215bca74e947')\"\n",
              "            title=\"Convert this dataframe to an interactive table.\"\n",
              "            style=\"display:none;\">\n",
              "\n",
              "  <svg xmlns=\"http://www.w3.org/2000/svg\" height=\"24px\" viewBox=\"0 -960 960 960\">\n",
              "    <path d=\"M120-120v-720h720v720H120Zm60-500h600v-160H180v160Zm220 220h160v-160H400v160Zm0 220h160v-160H400v160ZM180-400h160v-160H180v160Zm440 0h160v-160H620v160ZM180-180h160v-160H180v160Zm440 0h160v-160H620v160Z\"/>\n",
              "  </svg>\n",
              "    </button>\n",
              "\n",
              "  <style>\n",
              "    .colab-df-container {\n",
              "      display:flex;\n",
              "      gap: 12px;\n",
              "    }\n",
              "\n",
              "    .colab-df-convert {\n",
              "      background-color: #E8F0FE;\n",
              "      border: none;\n",
              "      border-radius: 50%;\n",
              "      cursor: pointer;\n",
              "      display: none;\n",
              "      fill: #1967D2;\n",
              "      height: 32px;\n",
              "      padding: 0 0 0 0;\n",
              "      width: 32px;\n",
              "    }\n",
              "\n",
              "    .colab-df-convert:hover {\n",
              "      background-color: #E2EBFA;\n",
              "      box-shadow: 0px 1px 2px rgba(60, 64, 67, 0.3), 0px 1px 3px 1px rgba(60, 64, 67, 0.15);\n",
              "      fill: #174EA6;\n",
              "    }\n",
              "\n",
              "    .colab-df-buttons div {\n",
              "      margin-bottom: 4px;\n",
              "    }\n",
              "\n",
              "    [theme=dark] .colab-df-convert {\n",
              "      background-color: #3B4455;\n",
              "      fill: #D2E3FC;\n",
              "    }\n",
              "\n",
              "    [theme=dark] .colab-df-convert:hover {\n",
              "      background-color: #434B5C;\n",
              "      box-shadow: 0px 1px 3px 1px rgba(0, 0, 0, 0.15);\n",
              "      filter: drop-shadow(0px 1px 2px rgba(0, 0, 0, 0.3));\n",
              "      fill: #FFFFFF;\n",
              "    }\n",
              "  </style>\n",
              "\n",
              "    <script>\n",
              "      const buttonEl =\n",
              "        document.querySelector('#df-c1c64ac7-243e-4cfb-ae99-215bca74e947 button.colab-df-convert');\n",
              "      buttonEl.style.display =\n",
              "        google.colab.kernel.accessAllowed ? 'block' : 'none';\n",
              "\n",
              "      async function convertToInteractive(key) {\n",
              "        const element = document.querySelector('#df-c1c64ac7-243e-4cfb-ae99-215bca74e947');\n",
              "        const dataTable =\n",
              "          await google.colab.kernel.invokeFunction('convertToInteractive',\n",
              "                                                    [key], {});\n",
              "        if (!dataTable) return;\n",
              "\n",
              "        const docLinkHtml = 'Like what you see? Visit the ' +\n",
              "          '<a target=\"_blank\" href=https://colab.research.google.com/notebooks/data_table.ipynb>data table notebook</a>'\n",
              "          + ' to learn more about interactive tables.';\n",
              "        element.innerHTML = '';\n",
              "        dataTable['output_type'] = 'display_data';\n",
              "        await google.colab.output.renderOutput(dataTable, element);\n",
              "        const docLink = document.createElement('div');\n",
              "        docLink.innerHTML = docLinkHtml;\n",
              "        element.appendChild(docLink);\n",
              "      }\n",
              "    </script>\n",
              "  </div>\n",
              "\n",
              "\n",
              "<div id=\"df-7cb9e730-3d8b-43ed-95fb-ba8031d9056a\">\n",
              "  <button class=\"colab-df-quickchart\" onclick=\"quickchart('df-7cb9e730-3d8b-43ed-95fb-ba8031d9056a')\"\n",
              "            title=\"Suggest charts\"\n",
              "            style=\"display:none;\">\n",
              "\n",
              "<svg xmlns=\"http://www.w3.org/2000/svg\" height=\"24px\"viewBox=\"0 0 24 24\"\n",
              "     width=\"24px\">\n",
              "    <g>\n",
              "        <path d=\"M19 3H5c-1.1 0-2 .9-2 2v14c0 1.1.9 2 2 2h14c1.1 0 2-.9 2-2V5c0-1.1-.9-2-2-2zM9 17H7v-7h2v7zm4 0h-2V7h2v10zm4 0h-2v-4h2v4z\"/>\n",
              "    </g>\n",
              "</svg>\n",
              "  </button>\n",
              "\n",
              "<style>\n",
              "  .colab-df-quickchart {\n",
              "      --bg-color: #E8F0FE;\n",
              "      --fill-color: #1967D2;\n",
              "      --hover-bg-color: #E2EBFA;\n",
              "      --hover-fill-color: #174EA6;\n",
              "      --disabled-fill-color: #AAA;\n",
              "      --disabled-bg-color: #DDD;\n",
              "  }\n",
              "\n",
              "  [theme=dark] .colab-df-quickchart {\n",
              "      --bg-color: #3B4455;\n",
              "      --fill-color: #D2E3FC;\n",
              "      --hover-bg-color: #434B5C;\n",
              "      --hover-fill-color: #FFFFFF;\n",
              "      --disabled-bg-color: #3B4455;\n",
              "      --disabled-fill-color: #666;\n",
              "  }\n",
              "\n",
              "  .colab-df-quickchart {\n",
              "    background-color: var(--bg-color);\n",
              "    border: none;\n",
              "    border-radius: 50%;\n",
              "    cursor: pointer;\n",
              "    display: none;\n",
              "    fill: var(--fill-color);\n",
              "    height: 32px;\n",
              "    padding: 0;\n",
              "    width: 32px;\n",
              "  }\n",
              "\n",
              "  .colab-df-quickchart:hover {\n",
              "    background-color: var(--hover-bg-color);\n",
              "    box-shadow: 0 1px 2px rgba(60, 64, 67, 0.3), 0 1px 3px 1px rgba(60, 64, 67, 0.15);\n",
              "    fill: var(--button-hover-fill-color);\n",
              "  }\n",
              "\n",
              "  .colab-df-quickchart-complete:disabled,\n",
              "  .colab-df-quickchart-complete:disabled:hover {\n",
              "    background-color: var(--disabled-bg-color);\n",
              "    fill: var(--disabled-fill-color);\n",
              "    box-shadow: none;\n",
              "  }\n",
              "\n",
              "  .colab-df-spinner {\n",
              "    border: 2px solid var(--fill-color);\n",
              "    border-color: transparent;\n",
              "    border-bottom-color: var(--fill-color);\n",
              "    animation:\n",
              "      spin 1s steps(1) infinite;\n",
              "  }\n",
              "\n",
              "  @keyframes spin {\n",
              "    0% {\n",
              "      border-color: transparent;\n",
              "      border-bottom-color: var(--fill-color);\n",
              "      border-left-color: var(--fill-color);\n",
              "    }\n",
              "    20% {\n",
              "      border-color: transparent;\n",
              "      border-left-color: var(--fill-color);\n",
              "      border-top-color: var(--fill-color);\n",
              "    }\n",
              "    30% {\n",
              "      border-color: transparent;\n",
              "      border-left-color: var(--fill-color);\n",
              "      border-top-color: var(--fill-color);\n",
              "      border-right-color: var(--fill-color);\n",
              "    }\n",
              "    40% {\n",
              "      border-color: transparent;\n",
              "      border-right-color: var(--fill-color);\n",
              "      border-top-color: var(--fill-color);\n",
              "    }\n",
              "    60% {\n",
              "      border-color: transparent;\n",
              "      border-right-color: var(--fill-color);\n",
              "    }\n",
              "    80% {\n",
              "      border-color: transparent;\n",
              "      border-right-color: var(--fill-color);\n",
              "      border-bottom-color: var(--fill-color);\n",
              "    }\n",
              "    90% {\n",
              "      border-color: transparent;\n",
              "      border-bottom-color: var(--fill-color);\n",
              "    }\n",
              "  }\n",
              "</style>\n",
              "\n",
              "  <script>\n",
              "    async function quickchart(key) {\n",
              "      const quickchartButtonEl =\n",
              "        document.querySelector('#' + key + ' button');\n",
              "      quickchartButtonEl.disabled = true;  // To prevent multiple clicks.\n",
              "      quickchartButtonEl.classList.add('colab-df-spinner');\n",
              "      try {\n",
              "        const charts = await google.colab.kernel.invokeFunction(\n",
              "            'suggestCharts', [key], {});\n",
              "      } catch (error) {\n",
              "        console.error('Error during call to suggestCharts:', error);\n",
              "      }\n",
              "      quickchartButtonEl.classList.remove('colab-df-spinner');\n",
              "      quickchartButtonEl.classList.add('colab-df-quickchart-complete');\n",
              "    }\n",
              "    (() => {\n",
              "      let quickchartButtonEl =\n",
              "        document.querySelector('#df-7cb9e730-3d8b-43ed-95fb-ba8031d9056a button');\n",
              "      quickchartButtonEl.style.display =\n",
              "        google.colab.kernel.accessAllowed ? 'block' : 'none';\n",
              "    })();\n",
              "  </script>\n",
              "</div>\n",
              "\n",
              "    </div>\n",
              "  </div>\n"
            ],
            "application/vnd.google.colaboratory.intrinsic+json": {
              "type": "dataframe",
              "variable_name": "df",
              "summary": "{\n  \"name\": \"df\",\n  \"rows\": 14281,\n  \"fields\": [\n    {\n      \"column\": \"item_category\",\n      \"properties\": {\n        \"dtype\": \"number\",\n        \"std\": 119,\n        \"min\": 101,\n        \"max\": 701,\n        \"num_unique_values\": 48,\n        \"samples\": [\n          209,\n          510,\n          524\n        ],\n        \"semantic_type\": \"\",\n        \"description\": \"\"\n      }\n    },\n    {\n      \"column\": \"item_id\",\n      \"properties\": {\n        \"dtype\": \"number\",\n        \"std\": 1185181,\n        \"min\": 1010102,\n        \"max\": 7010101,\n        \"num_unique_values\": 162,\n        \"samples\": [\n          1070911,\n          5050101,\n          5240101\n        ],\n        \"semantic_type\": \"\",\n        \"description\": \"\"\n      }\n    },\n    {\n      \"column\": \"brand\",\n      \"properties\": {\n        \"dtype\": \"number\",\n        \"std\": 496,\n        \"min\": 1,\n        \"max\": 2159,\n        \"num_unique_values\": 192,\n        \"samples\": [\n          18,\n          1440,\n          1460\n        ],\n        \"semantic_type\": \"\",\n        \"description\": \"\"\n      }\n    },\n    {\n      \"column\": \"user_id\",\n      \"properties\": {\n        \"dtype\": \"number\",\n        \"std\": 908,\n        \"min\": 0,\n        \"max\": 3231,\n        \"num_unique_values\": 3041,\n        \"samples\": [\n          753,\n          1130,\n          386\n        ],\n        \"semantic_type\": \"\",\n        \"description\": \"\"\n      }\n    },\n    {\n      \"column\": \"date\",\n      \"properties\": {\n        \"dtype\": \"object\",\n        \"num_unique_values\": 2275,\n        \"samples\": [\n          \"2017-01-23\",\n          \"2016-07-05\",\n          \"2013-02-05\"\n        ],\n        \"semantic_type\": \"\",\n        \"description\": \"\"\n      }\n    },\n    {\n      \"column\": \"comment\",\n      \"properties\": {\n        \"dtype\": \"string\",\n        \"num_unique_values\": 14221,\n        \"samples\": [\n          \"\\u041f\\u043e\\u0434\\u0430\\u0440\\u0438\\u043b\\u0438 \\u0442\\u0430\\u043a\\u043e\\u0439 \\u043f\\u044b\\u043b\\u0435\\u0441\\u043e\\u0441, \\u043c\\u043e\\u0449\\u043d\\u043e\\u0441\\u0442\\u044c \\u043e\\u0447\\u0435\\u043d\\u044c \\u0441\\u043b\\u0430\\u0431\\u0430\\u044f. \\u0427\\u0442\\u043e\\u0431\\u044b \\u0434\\u0435\\u0439\\u0441\\u0442\\u0432\\u0438\\u0442\\u0435\\u043b\\u044c\\u043d\\u043e \\u0445\\u043e\\u0440\\u043e\\u0448\\u043e \\u043f\\u0440\\u043e\\u043f\\u044b\\u043b\\u0435\\u0441\\u043e\\u0441\\u0438\\u0442\\u044c \\u043c\\u0430\\u0448\\u0438\\u043d\\u0443 \\u043f\\u043e\\u0442\\u0440\\u0435\\u0431\\u0443\\u0435\\u0442\\u0441\\u044f \\u0447\\u0430\\u0441\\u043e\\u0432 8. \\u041d\\u0435 \\u0440\\u0435\\u043a\\u043e\\u043c\\u0435\\u043d\\u0434\\u0443\\u044e \\u043f\\u043e\\u043a\\u0443\\u043f\\u0430\\u0442\\u044c \\u0434\\u0430\\u043d\\u043d\\u0443\\u044e \\u043c\\u043e\\u0434\\u0435\\u043b\\u044c, \\u043e\\u0447\\u0435\\u043d\\u044c \\u0440\\u0430\\u0437\\u043e\\u0447\\u0430\\u0440\\u0443\\u0435\\u0442\",\n          \"\\u0414\\u043e\\u043c\\u0430 \\u0440\\u0435\\u0431\\u0435\\u043d\\u043e\\u043a \\u0430\\u043b\\u043b\\u0435\\u0440\\u0433\\u0438\\u043a , \\u0436\\u0438\\u0432\\u0443 \\u0432 \\u043e\\u0434\\u043d\\u0443\\u0448\\u043a\\u0435 . \\u0418\\u0441\\u043a\\u0430\\u043b \\u043d\\u0435\\u0431\\u043e\\u043b\\u044c\\u0448\\u043e\\u0439 \\u043f\\u044b\\u043b\\u0435\\u0441\\u043e\\u0441 \\u0441 \\u0430\\u043a\\u0432\\u0430-\\u0444\\u0438\\u043b\\u044c\\u0442\\u0440\\u043e\\u043c , \\u043c\\u0435\\u043d\\u044c\\u0448\\u0435 \\u0447\\u0435\\u043c \\u043c\\u043d\\u0435 \\u043d\\u0435 \\u0437\\u043d\\u0430\\u043a\\u043e\\u043c\\u044b\\u0439 \\u0410\\u0440\\u0438\\u0435\\u0442\\u0435 \\u043d\\u0435 \\u043d\\u0430\\u0448\\u0435\\u043b ,\\u043f\\u043e\\u043f\\u0440\\u043e\\u0431\\u044b\\u0432\\u0430\\u043b \\u0438 \\u043a\\u0443\\u043f\\u0438\\u043b ! \\u0422\\u0435\\u043f\\u0435\\u0440\\u044c \\u0442\\u0430\\u043a \\u043c\\u043e\\u0433\\u0443 \\u0441\\u043a\\u0430\\u0437\\u0430\\u0442\\u044c- \\u0434\\u0435\\u0448\\u0435\\u0432\\u044b\\u0439 ,\\u043a\\u0430\\u0447\\u0435\\u0441\\u0442\\u0432\\u0435\\u043d\\u043d\\u044b\\u0439 \\u043f\\u044b\\u043b\\u0435\\u0441\\u043e\\u0441 , \\u0437\\u0430\\u043d\\u0438\\u043c\\u0430\\u0435\\u0442 \\u043c\\u0430\\u043b\\u043e \\u043c\\u0435\\u0441\\u0442\\u0430 , \\u0430 \\u0433\\u043b\\u0430\\u0432\\u043d\\u043e\\u0435 \\u043c\\u043e\\u0435\\u0442 \\u0432\\u043e\\u0437\\u0434\\u0443\\u0445 !!!!\",\n          \"\\u041a\\u0441\\u0442\\u0430\\u0442\\u0438 \\u0432 \\u041c-\\u0412\\u0438\\u0434\\u0435\\u043e \\u043e\\u0447\\u0435\\u043d\\u044c \\u0445\\u043e\\u0440\\u043e\\u0448\\u043e \\u043a\\u043e\\u043d\\u0441\\u0443\\u043b\\u044c\\u0442\\u0438\\u0440\\u0443\\u044e\\u0442.  \\u041a\\u0443\\u043f\\u0438\\u043b \\u0442\\u0432 Philips 32 PFL 5604H/12, \\u0432\\u043a\\u043b\\u044e\\u0447\\u0438\\u043b \\u0438 \\u0441\\u0442\\u0430\\u043b\\u043e \\u044f\\u0441\\u043d\\u043e, \\u0447\\u0442\\u043e \\u044d\\u0442\\u043e \\u043d\\u0435 \\u0442\\u043e. \\u0418 \\u0433\\u0440\\u0435\\u0435\\u0442\\u0441\\u044f \\u043a\\u0430\\u043a \\u043f\\u0435\\u0447\\u043a\\u0430 \\u0438 \\u0437\\u0430\\u043f\\u0430\\u0445 \\u0433\\u043e\\u0440\\u0435\\u043b\\u043e\\u0433\\u043e \\u0438\\u0434\\u0435\\u0442, \\u0440\\u044f\\u0434 \\u0437\\u0430\\u044f\\u0432\\u043b\\u0435\\u043d\\u043d\\u044b\\u0445 \\u0444\\u0443\\u043d\\u043a\\u0446\\u0438\\u0439 \\u043e\\u0442\\u0441\\u0443\\u0442\\u0441\\u0442\\u0432\\u0443\\u044e\\u0442. \\u041d\\u043e \\u0430 \\u0432\\u0440\\u0435\\u043c\\u044f- \\u0447\\u0430\\u0441\\u044b \\u0432\\u043e\\u043e\\u0431\\u0449\\u0435 \\u043d\\u0435\\u043b\\u044c\\u0437\\u044f \\u043d\\u0430\\u0441\\u0442\\u0440\\u043e\\u0438\\u0442\\u044c \\u0432 \\u0434\\u043e\\u043a\\u0443\\u043c\\u0435\\u043d\\u0442\\u0430\\u0446\\u0438\\u0438 \\u043d\\u0430 \\u0442\\u0435\\u043b\\u0435\\u0432\\u0438\\u0437\\u043e\\u0440\\u0435 \\u0441\\u043a\\u0430\\u0437\\u0430\\u043d\\u043e \\u043a\\u0430\\u043a \\u043d\\u0430\\u0441\\u0442\\u0440\\u043e\\u0438\\u0442\\u044c, \\u0430 \\u043c\\u0435\\u043d\\u044e \\u044d\\u0442\\u043e\\u0439 \\u0444\\u0443\\u043d\\u043a\\u0446\\u0438\\u0438 \\u043d\\u0435\\u0442 \\u0441\\u043e \\u0432\\u0441\\u0435\\u043c\\u0438 \\u043f\\u043e\\u0441\\u043b\\u0435\\u0434\\u0441\\u0442\\u0432\\u0438\\u044f\\u043c\\u0438. \\u041f\\u043e\\u0442\\u0435\\u0440\\u044f \\u0437\\u0432\\u0443\\u043a\\u0430 \\u043f\\u0440\\u0438 \\u043d\\u0435\\u043a\\u043e\\u0442\\u043e\\u0440\\u044b\\u0445 \\u0444\\u0443\\u043d\\u043a\\u0446\\u0438\\u044f\\u0445. \\u0412\\u044b\\u0448\\u0435 \\u0442\\u043e\\u0432\\u0430\\u0440\\u0438\\u0449\\u0438 \\u0441\\u043a\\u0430\\u0437\\u0430\\u043b\\u0438 , \\u0447\\u0442\\u043e \\u043d\\u0435 \\u0432\\u0441\\u0435 \\u0444\\u0430\\u0439\\u043b\\u044b \\u0441 \\u0444\\u043b\\u0435\\u0448\\u043a\\u0438 \\u0447\\u0438\\u0442\\u0430\\u0435\\u0442 - \\u044d\\u0442\\u043e \\u043f\\u0440\\u0430\\u0432\\u0434\\u0430. \\u0422\\u0435\\u043f\\u0435\\u0440\\u044c \\u043f\\u043e \\u0438\\u0437\\u043e\\u0431\\u0440\\u0430\\u0436\\u0435\\u043d\\u0438\\u044e - \\u0441\\u0440\\u0430\\u0432\\u043d\\u0438\\u043b \\u0441 \\u0438\\u0437\\u043e\\u0431\\u0440\\u0430\\u0436\\u0435\\u043d\\u0438\\u0435\\u043c \\\"\\u0441\\u0430\\u043c\\u0441\\u0443\\u043d\\u0433\\u0430\\\" \\u043f\\u043e\\u043a\\u0430\\u0437\\u044b\\u0432\\u0430\\u0435\\u0442 \\u0445\\u0443\\u0436\\u0435, \\u0438\\u0437\\u043e\\u0431\\u0440\\u0430\\u0436\\u0435\\u043d\\u0438\\u0435 \\u0432\\u0440\\u0435\\u043c\\u0435\\u043d\\u0430\\u043c\\u0438 \\u043c\\u0435\\u0441\\u0442\\u0430\\u043c\\u0438 \\u043b\\u0438\\u0431\\u043e \\u043f\\u043b\\u044b\\u0432\\u0435\\u0442, \\u043b\\u0438\\u0431\\u043e \\u0434\\u0435\\u0440\\u0433\\u0430\\u0435\\u0442\\u0441\\u044f.  \\u041a\\u043e\\u043d\\u0435\\u0447\\u043d\\u043e, \\u0435\\u0441\\u043b\\u0438 \\u0434\\u043e\\u043c\\u0430 \\u043d\\u0435\\u0442 \\u0416\\u041a \\u0442\\u0435\\u043b\\u0435\\u0432\\u0438\\u0437\\u043e\\u0440\\u0430, \\u0442\\u043e \\u0438 \\u044d\\u0442\\u043e\\u0442 \\u0432 \\u0440\\u0430\\u0434\\u043e\\u0441\\u0442\\u044c \\u043c\\u043e\\u0436\\u0435\\u0442 \\u0431\\u044b\\u0442\\u044c, \\u043a\\u043e\\u0433\\u0434\\u0430 \\u044d\\u0442\\u043e 3-\\u0442\\u0438\\u0439 \\u0422\\u0412 \\u0432\\u044b\\u0441\\u043e\\u043a\\u043e\\u0433\\u043e \\u0440\\u0430\\u0437\\u0440\\u0435\\u0448\\u0435\\u043d\\u0438\\u044f, \\u0442\\u043e \\u044f\\u0441\\u043d\\u043e, \\u0447\\u0442\\u043e \\u043c\\u043e\\u0434\\u0435\\u043b\\u044c \\u043f\\u043e \\u043a\\u0430\\u0447\\u0435\\u0441\\u0442\\u0432\\u0443 \\u043d\\u0438\\u0436\\u0435 \\u0437\\u0430\\u044f\\u0432\\u043b\\u0435\\u043d\\u043d\\u043e\\u0439. \\u0410 \\u043a\\u043e\\u0433\\u0434\\u0430 \\u043f\\u0440\\u043e\\u043f\\u0438\\u0441\\u0430\\u043d\\u043d\\u044b\\u0435 \\u0432 \\u0434\\u043e\\u043a\\u0443\\u043c\\u0435\\u043d\\u0442\\u0430\\u0446\\u0438\\u0438 \\u0444\\u0443\\u043d\\u043a\\u0446\\u0438\\u0438 \\u043e\\u0442\\u0441\\u0443\\u0442\\u0441\\u0442\\u0432\\u0443\\u044e\\u0442 \\u0438\\u043b\\u0438 \\u043d\\u0435\\u0432\\u0435\\u0440\\u043d\\u043e \\u0440\\u0435\\u0430\\u043b\\u0438\\u0437\\u043e\\u0432\\u0430\\u043d\\u044b, \\u0442\\u043e \\u0441\\u0442\\u0430\\u043d\\u043e\\u0432\\u0438\\u0442\\u0441\\u044f \\u044f\\u0441\\u043d\\u043e, \\u0412\\u0430\\u0441 \\u043d\\u0435\\u043c\\u043d\\u043e\\u0433\\u043e \\u0432\\u0432\\u0435\\u043b\\u0438 \\u0432 \\u0437\\u0430\\u0431\\u043b\\u0443\\u0436\\u0434\\u0435\\u043d\\u0438\\u0435. \\u0410 \\u0432\\u0435\\u0434\\u044c \\u0444\\u0438\\u0440\\u043c\\u0430 \\u0438\\u0437\\u0432\\u0435\\u0441\\u0442\\u043d\\u0430\\u044f \\u0441\\u0432\\u043e\\u0435\\u0439 \\u043a\\u0430\\u0447\\u0435\\u0441\\u0442\\u0432\\u0435\\u043d\\u043d\\u043e\\u0439 \\u043f\\u0440\\u043e\\u0434\\u0443\\u043a\\u0446\\u0438\\u0435\\u0439. \\u0410 \\u043c\\u043e\\u0436\\u0435\\u0442 \\u043c\\u043d\\u0435 \\u043d\\u0435 \\u043f\\u043e\\u0432\\u0435\\u0437\\u043b\\u043e?   \\u042f \\u0437\\u0430\\u043c\\u0435\\u043d\\u0438\\u043b \\u0422\\u0412 \\u042d\\u041b\\u0422 \\u0424\\u0438\\u043b\\u0438\\u043f\\u0441 \\u043a\\u043e\\u0442\\u043e\\u0440\\u044b\\u0439 \\u0432\\u0435\\u0440\\u043e\\u0439 \\u0438 \\u043f\\u0440\\u0430\\u0432\\u0434\\u043e\\u0439 \\u0441 \\u0445\\u043e\\u0440\\u043e\\u0448\\u0438\\u043c \\u0438\\u0437\\u043e\\u0431\\u0440\\u0430\\u0436\\u0435\\u043d\\u0438\\u0435\\u043c \\u043e\\u0442\\u0441\\u043b\\u0443\\u0436\\u0438\\u043b 12 \\u043b\\u0435\\u0442 \\u0438 \\u0431\\u0443\\u0434\\u0435\\u0442 \\u043d\\u0430 \\u0434\\u0430\\u0447\\u0435 \\u0441\\u043b\\u0443\\u0436\\u0438\\u0442\\u044c \\u043d\\u0435 \\u043d\\u0435 \\u043e\\u0434\\u0438\\u043d \\u0433\\u043e\\u0434.   \\u041e\\u0431\\u0438\\u0434\\u043d\\u043e \\u043f\\u043e\\u043d\\u0438\\u043c\\u0430\\u0435\\u0448\\u044c!    \\u0411\\u0443\\u0434\\u0443 \\u043c\\u0435\\u043d\\u044f\\u0442\\u044c \\u043d\\u0430 \\u0422\\u0412 \\u0416\\u041a-\\u0442\\u0435\\u043b\\u0435\\u0432\\u0438\\u0437\\u043e\\u0440 32\\\"Philips 100\\u0433\\u0435\\u0440\\u0446, \\u043f\\u043e \\u0437\\u0430\\u043c\\u0435\\u043d\\u0435 \\u0434\\u0430\\u043c \\u0438\\u043d\\u0444\\u043e\\u0440\\u043c\\u0430\\u0446\\u0438\\u044e \\u043f\\u043e\\u0437\\u0436\\u0435.\"\n        ],\n        \"semantic_type\": \"\",\n        \"description\": \"\"\n      }\n    },\n    {\n      \"column\": \"rating\",\n      \"properties\": {\n        \"dtype\": \"number\",\n        \"std\": 1.3293638067670723,\n        \"min\": 1.0,\n        \"max\": 5.0,\n        \"num_unique_values\": 8,\n        \"samples\": [\n          4.0,\n          4.3,\n          2.0\n        ],\n        \"semantic_type\": \"\",\n        \"description\": \"\"\n      }\n    },\n    {\n      \"column\": \"tonality\",\n      \"properties\": {\n        \"dtype\": \"category\",\n        \"num_unique_values\": 2,\n        \"samples\": [\n          \"positive\",\n          \"negative\"\n        ],\n        \"semantic_type\": \"\",\n        \"description\": \"\"\n      }\n    }\n  ]\n}"
            }
          },
          "metadata": {},
          "execution_count": 2
        }
      ]
    },
    {
      "cell_type": "code",
      "source": [
        "#Check for Missing values :\n",
        "df.isnull().sum()"
      ],
      "metadata": {
        "colab": {
          "base_uri": "https://localhost:8080/",
          "height": 335
        },
        "id": "dK8XxXDHlp1E",
        "outputId": "ad300995-7030-4baa-c654-04c875f24622"
      },
      "execution_count": 3,
      "outputs": [
        {
          "output_type": "execute_result",
          "data": {
            "text/plain": [
              "item_category    0\n",
              "item_id          0\n",
              "brand            0\n",
              "user_id          0\n",
              "date             0\n",
              "comment          0\n",
              "rating           0\n",
              "tonality         0\n",
              "dtype: int64"
            ],
            "text/html": [
              "<div>\n",
              "<style scoped>\n",
              "    .dataframe tbody tr th:only-of-type {\n",
              "        vertical-align: middle;\n",
              "    }\n",
              "\n",
              "    .dataframe tbody tr th {\n",
              "        vertical-align: top;\n",
              "    }\n",
              "\n",
              "    .dataframe thead th {\n",
              "        text-align: right;\n",
              "    }\n",
              "</style>\n",
              "<table border=\"1\" class=\"dataframe\">\n",
              "  <thead>\n",
              "    <tr style=\"text-align: right;\">\n",
              "      <th></th>\n",
              "      <th>0</th>\n",
              "    </tr>\n",
              "  </thead>\n",
              "  <tbody>\n",
              "    <tr>\n",
              "      <th>item_category</th>\n",
              "      <td>0</td>\n",
              "    </tr>\n",
              "    <tr>\n",
              "      <th>item_id</th>\n",
              "      <td>0</td>\n",
              "    </tr>\n",
              "    <tr>\n",
              "      <th>brand</th>\n",
              "      <td>0</td>\n",
              "    </tr>\n",
              "    <tr>\n",
              "      <th>user_id</th>\n",
              "      <td>0</td>\n",
              "    </tr>\n",
              "    <tr>\n",
              "      <th>date</th>\n",
              "      <td>0</td>\n",
              "    </tr>\n",
              "    <tr>\n",
              "      <th>comment</th>\n",
              "      <td>0</td>\n",
              "    </tr>\n",
              "    <tr>\n",
              "      <th>rating</th>\n",
              "      <td>0</td>\n",
              "    </tr>\n",
              "    <tr>\n",
              "      <th>tonality</th>\n",
              "      <td>0</td>\n",
              "    </tr>\n",
              "  </tbody>\n",
              "</table>\n",
              "</div><br><label><b>dtype:</b> int64</label>"
            ]
          },
          "metadata": {},
          "execution_count": 3
        }
      ]
    },
    {
      "cell_type": "code",
      "source": [
        "df.duplicated().sum()"
      ],
      "metadata": {
        "colab": {
          "base_uri": "https://localhost:8080/"
        },
        "id": "IxNohzZJlsjK",
        "outputId": "f3ed1488-bed6-469d-bf00-4e951bff3cfc"
      },
      "execution_count": 4,
      "outputs": [
        {
          "output_type": "execute_result",
          "data": {
            "text/plain": [
              "np.int64(0)"
            ]
          },
          "metadata": {},
          "execution_count": 4
        }
      ]
    },
    {
      "cell_type": "code",
      "source": [
        "# Text Normalization\n",
        "nltk.download('stopwords')\n",
        "nltk.download('wordnet')\n",
        "stop_words = set(stopwords.words('russian'))  # Use 'english' if your data is in English\n",
        "lemmatizer = WordNetLemmatizer()\n",
        "\n",
        "def clean_text(text):\n",
        "    text = re.sub('[^а-яА-Яa-zA-Z]', ' ', text)  # Keep letters only\n",
        "    text = text.lower().split()\n",
        "    text = [lemmatizer.lemmatize(word) for word in text if word not in stop_words]\n",
        "    return ' '.join(text)\n",
        "\n",
        "df['clean_comment'] = df['comment'].apply(clean_text)\n",
        "\n",
        "# Step 3: Label Encoding\n",
        "label_encoder = LabelEncoder()\n",
        "df['tonality_encoded'] = label_encoder.fit_transform(df['tonality'])  # positive → 1, negative → 0"
      ],
      "metadata": {
        "colab": {
          "base_uri": "https://localhost:8080/"
        },
        "id": "M7nyMX1Qm3tf",
        "outputId": "4a1dd33e-9df0-481c-d8c4-50ce2157b51f"
      },
      "execution_count": 5,
      "outputs": [
        {
          "output_type": "stream",
          "name": "stderr",
          "text": [
            "[nltk_data] Downloading package stopwords to /root/nltk_data...\n",
            "[nltk_data]   Unzipping corpora/stopwords.zip.\n",
            "[nltk_data] Downloading package wordnet to /root/nltk_data...\n"
          ]
        }
      ]
    },
    {
      "cell_type": "code",
      "source": [
        "# Encoding other categorical features\n",
        "df['brand'] = LabelEncoder().fit_transform(df['brand'])\n",
        "df['item_category'] = LabelEncoder().fit_transform(df['item_category'])"
      ],
      "metadata": {
        "id": "YBi-5Ze3nK_x"
      },
      "execution_count": 6,
      "outputs": []
    },
    {
      "cell_type": "code",
      "source": [
        "# Now ready for vectorization/tokenization for DL models\n",
        "df[['comment', 'clean_comment', 'tonality', 'tonality_encoded']].head()"
      ],
      "metadata": {
        "colab": {
          "base_uri": "https://localhost:8080/",
          "height": 293
        },
        "id": "vGtl6j4anT-R",
        "outputId": "ae3285da-682b-4031-b613-7e9010a0c30e"
      },
      "execution_count": 7,
      "outputs": [
        {
          "output_type": "execute_result",
          "data": {
            "text/plain": [
              "                                             comment  \\\n",
              "0  2,5 года работала и все...устала! Лампочка гор...   \n",
              "1  Через 2 месяца после истечении гарантийного ср...   \n",
              "2  пользуюсь уже три недели. нареканий ни каких н...   \n",
              "3  Ребят этот системный блок подойдёт для игры кс...   \n",
              "4  я считаю, что яри замечательный телефон! Прият...   \n",
              "\n",
              "                                       clean_comment  tonality  \\\n",
              "0                года работала устала лампочка горит  negative   \n",
              "1  месяца истечении гарантийного срока машинка на...  negative   \n",
              "2  пользуюсь недели нареканий каких положительные...  positive   \n",
              "3  ребят системный блок подойд т игры кс го средн...  positive   \n",
              "4  считаю яри замечательный телефон приятно держа...  positive   \n",
              "\n",
              "   tonality_encoded  \n",
              "0                 0  \n",
              "1                 0  \n",
              "2                 1  \n",
              "3                 1  \n",
              "4                 1  "
            ],
            "text/html": [
              "\n",
              "  <div id=\"df-29d8bd7d-006b-4fdf-b96d-649208392172\" class=\"colab-df-container\">\n",
              "    <div>\n",
              "<style scoped>\n",
              "    .dataframe tbody tr th:only-of-type {\n",
              "        vertical-align: middle;\n",
              "    }\n",
              "\n",
              "    .dataframe tbody tr th {\n",
              "        vertical-align: top;\n",
              "    }\n",
              "\n",
              "    .dataframe thead th {\n",
              "        text-align: right;\n",
              "    }\n",
              "</style>\n",
              "<table border=\"1\" class=\"dataframe\">\n",
              "  <thead>\n",
              "    <tr style=\"text-align: right;\">\n",
              "      <th></th>\n",
              "      <th>comment</th>\n",
              "      <th>clean_comment</th>\n",
              "      <th>tonality</th>\n",
              "      <th>tonality_encoded</th>\n",
              "    </tr>\n",
              "  </thead>\n",
              "  <tbody>\n",
              "    <tr>\n",
              "      <th>0</th>\n",
              "      <td>2,5 года работала и все...устала! Лампочка гор...</td>\n",
              "      <td>года работала устала лампочка горит</td>\n",
              "      <td>negative</td>\n",
              "      <td>0</td>\n",
              "    </tr>\n",
              "    <tr>\n",
              "      <th>1</th>\n",
              "      <td>Через 2 месяца после истечении гарантийного ср...</td>\n",
              "      <td>месяца истечении гарантийного срока машинка на...</td>\n",
              "      <td>negative</td>\n",
              "      <td>0</td>\n",
              "    </tr>\n",
              "    <tr>\n",
              "      <th>2</th>\n",
              "      <td>пользуюсь уже три недели. нареканий ни каких н...</td>\n",
              "      <td>пользуюсь недели нареканий каких положительные...</td>\n",
              "      <td>positive</td>\n",
              "      <td>1</td>\n",
              "    </tr>\n",
              "    <tr>\n",
              "      <th>3</th>\n",
              "      <td>Ребят этот системный блок подойдёт для игры кс...</td>\n",
              "      <td>ребят системный блок подойд т игры кс го средн...</td>\n",
              "      <td>positive</td>\n",
              "      <td>1</td>\n",
              "    </tr>\n",
              "    <tr>\n",
              "      <th>4</th>\n",
              "      <td>я считаю, что яри замечательный телефон! Прият...</td>\n",
              "      <td>считаю яри замечательный телефон приятно держа...</td>\n",
              "      <td>positive</td>\n",
              "      <td>1</td>\n",
              "    </tr>\n",
              "  </tbody>\n",
              "</table>\n",
              "</div>\n",
              "    <div class=\"colab-df-buttons\">\n",
              "\n",
              "  <div class=\"colab-df-container\">\n",
              "    <button class=\"colab-df-convert\" onclick=\"convertToInteractive('df-29d8bd7d-006b-4fdf-b96d-649208392172')\"\n",
              "            title=\"Convert this dataframe to an interactive table.\"\n",
              "            style=\"display:none;\">\n",
              "\n",
              "  <svg xmlns=\"http://www.w3.org/2000/svg\" height=\"24px\" viewBox=\"0 -960 960 960\">\n",
              "    <path d=\"M120-120v-720h720v720H120Zm60-500h600v-160H180v160Zm220 220h160v-160H400v160Zm0 220h160v-160H400v160ZM180-400h160v-160H180v160Zm440 0h160v-160H620v160ZM180-180h160v-160H180v160Zm440 0h160v-160H620v160Z\"/>\n",
              "  </svg>\n",
              "    </button>\n",
              "\n",
              "  <style>\n",
              "    .colab-df-container {\n",
              "      display:flex;\n",
              "      gap: 12px;\n",
              "    }\n",
              "\n",
              "    .colab-df-convert {\n",
              "      background-color: #E8F0FE;\n",
              "      border: none;\n",
              "      border-radius: 50%;\n",
              "      cursor: pointer;\n",
              "      display: none;\n",
              "      fill: #1967D2;\n",
              "      height: 32px;\n",
              "      padding: 0 0 0 0;\n",
              "      width: 32px;\n",
              "    }\n",
              "\n",
              "    .colab-df-convert:hover {\n",
              "      background-color: #E2EBFA;\n",
              "      box-shadow: 0px 1px 2px rgba(60, 64, 67, 0.3), 0px 1px 3px 1px rgba(60, 64, 67, 0.15);\n",
              "      fill: #174EA6;\n",
              "    }\n",
              "\n",
              "    .colab-df-buttons div {\n",
              "      margin-bottom: 4px;\n",
              "    }\n",
              "\n",
              "    [theme=dark] .colab-df-convert {\n",
              "      background-color: #3B4455;\n",
              "      fill: #D2E3FC;\n",
              "    }\n",
              "\n",
              "    [theme=dark] .colab-df-convert:hover {\n",
              "      background-color: #434B5C;\n",
              "      box-shadow: 0px 1px 3px 1px rgba(0, 0, 0, 0.15);\n",
              "      filter: drop-shadow(0px 1px 2px rgba(0, 0, 0, 0.3));\n",
              "      fill: #FFFFFF;\n",
              "    }\n",
              "  </style>\n",
              "\n",
              "    <script>\n",
              "      const buttonEl =\n",
              "        document.querySelector('#df-29d8bd7d-006b-4fdf-b96d-649208392172 button.colab-df-convert');\n",
              "      buttonEl.style.display =\n",
              "        google.colab.kernel.accessAllowed ? 'block' : 'none';\n",
              "\n",
              "      async function convertToInteractive(key) {\n",
              "        const element = document.querySelector('#df-29d8bd7d-006b-4fdf-b96d-649208392172');\n",
              "        const dataTable =\n",
              "          await google.colab.kernel.invokeFunction('convertToInteractive',\n",
              "                                                    [key], {});\n",
              "        if (!dataTable) return;\n",
              "\n",
              "        const docLinkHtml = 'Like what you see? Visit the ' +\n",
              "          '<a target=\"_blank\" href=https://colab.research.google.com/notebooks/data_table.ipynb>data table notebook</a>'\n",
              "          + ' to learn more about interactive tables.';\n",
              "        element.innerHTML = '';\n",
              "        dataTable['output_type'] = 'display_data';\n",
              "        await google.colab.output.renderOutput(dataTable, element);\n",
              "        const docLink = document.createElement('div');\n",
              "        docLink.innerHTML = docLinkHtml;\n",
              "        element.appendChild(docLink);\n",
              "      }\n",
              "    </script>\n",
              "  </div>\n",
              "\n",
              "\n",
              "<div id=\"df-96ff0cba-4344-4561-8183-494cb2f1c6e7\">\n",
              "  <button class=\"colab-df-quickchart\" onclick=\"quickchart('df-96ff0cba-4344-4561-8183-494cb2f1c6e7')\"\n",
              "            title=\"Suggest charts\"\n",
              "            style=\"display:none;\">\n",
              "\n",
              "<svg xmlns=\"http://www.w3.org/2000/svg\" height=\"24px\"viewBox=\"0 0 24 24\"\n",
              "     width=\"24px\">\n",
              "    <g>\n",
              "        <path d=\"M19 3H5c-1.1 0-2 .9-2 2v14c0 1.1.9 2 2 2h14c1.1 0 2-.9 2-2V5c0-1.1-.9-2-2-2zM9 17H7v-7h2v7zm4 0h-2V7h2v10zm4 0h-2v-4h2v4z\"/>\n",
              "    </g>\n",
              "</svg>\n",
              "  </button>\n",
              "\n",
              "<style>\n",
              "  .colab-df-quickchart {\n",
              "      --bg-color: #E8F0FE;\n",
              "      --fill-color: #1967D2;\n",
              "      --hover-bg-color: #E2EBFA;\n",
              "      --hover-fill-color: #174EA6;\n",
              "      --disabled-fill-color: #AAA;\n",
              "      --disabled-bg-color: #DDD;\n",
              "  }\n",
              "\n",
              "  [theme=dark] .colab-df-quickchart {\n",
              "      --bg-color: #3B4455;\n",
              "      --fill-color: #D2E3FC;\n",
              "      --hover-bg-color: #434B5C;\n",
              "      --hover-fill-color: #FFFFFF;\n",
              "      --disabled-bg-color: #3B4455;\n",
              "      --disabled-fill-color: #666;\n",
              "  }\n",
              "\n",
              "  .colab-df-quickchart {\n",
              "    background-color: var(--bg-color);\n",
              "    border: none;\n",
              "    border-radius: 50%;\n",
              "    cursor: pointer;\n",
              "    display: none;\n",
              "    fill: var(--fill-color);\n",
              "    height: 32px;\n",
              "    padding: 0;\n",
              "    width: 32px;\n",
              "  }\n",
              "\n",
              "  .colab-df-quickchart:hover {\n",
              "    background-color: var(--hover-bg-color);\n",
              "    box-shadow: 0 1px 2px rgba(60, 64, 67, 0.3), 0 1px 3px 1px rgba(60, 64, 67, 0.15);\n",
              "    fill: var(--button-hover-fill-color);\n",
              "  }\n",
              "\n",
              "  .colab-df-quickchart-complete:disabled,\n",
              "  .colab-df-quickchart-complete:disabled:hover {\n",
              "    background-color: var(--disabled-bg-color);\n",
              "    fill: var(--disabled-fill-color);\n",
              "    box-shadow: none;\n",
              "  }\n",
              "\n",
              "  .colab-df-spinner {\n",
              "    border: 2px solid var(--fill-color);\n",
              "    border-color: transparent;\n",
              "    border-bottom-color: var(--fill-color);\n",
              "    animation:\n",
              "      spin 1s steps(1) infinite;\n",
              "  }\n",
              "\n",
              "  @keyframes spin {\n",
              "    0% {\n",
              "      border-color: transparent;\n",
              "      border-bottom-color: var(--fill-color);\n",
              "      border-left-color: var(--fill-color);\n",
              "    }\n",
              "    20% {\n",
              "      border-color: transparent;\n",
              "      border-left-color: var(--fill-color);\n",
              "      border-top-color: var(--fill-color);\n",
              "    }\n",
              "    30% {\n",
              "      border-color: transparent;\n",
              "      border-left-color: var(--fill-color);\n",
              "      border-top-color: var(--fill-color);\n",
              "      border-right-color: var(--fill-color);\n",
              "    }\n",
              "    40% {\n",
              "      border-color: transparent;\n",
              "      border-right-color: var(--fill-color);\n",
              "      border-top-color: var(--fill-color);\n",
              "    }\n",
              "    60% {\n",
              "      border-color: transparent;\n",
              "      border-right-color: var(--fill-color);\n",
              "    }\n",
              "    80% {\n",
              "      border-color: transparent;\n",
              "      border-right-color: var(--fill-color);\n",
              "      border-bottom-color: var(--fill-color);\n",
              "    }\n",
              "    90% {\n",
              "      border-color: transparent;\n",
              "      border-bottom-color: var(--fill-color);\n",
              "    }\n",
              "  }\n",
              "</style>\n",
              "\n",
              "  <script>\n",
              "    async function quickchart(key) {\n",
              "      const quickchartButtonEl =\n",
              "        document.querySelector('#' + key + ' button');\n",
              "      quickchartButtonEl.disabled = true;  // To prevent multiple clicks.\n",
              "      quickchartButtonEl.classList.add('colab-df-spinner');\n",
              "      try {\n",
              "        const charts = await google.colab.kernel.invokeFunction(\n",
              "            'suggestCharts', [key], {});\n",
              "      } catch (error) {\n",
              "        console.error('Error during call to suggestCharts:', error);\n",
              "      }\n",
              "      quickchartButtonEl.classList.remove('colab-df-spinner');\n",
              "      quickchartButtonEl.classList.add('colab-df-quickchart-complete');\n",
              "    }\n",
              "    (() => {\n",
              "      let quickchartButtonEl =\n",
              "        document.querySelector('#df-96ff0cba-4344-4561-8183-494cb2f1c6e7 button');\n",
              "      quickchartButtonEl.style.display =\n",
              "        google.colab.kernel.accessAllowed ? 'block' : 'none';\n",
              "    })();\n",
              "  </script>\n",
              "</div>\n",
              "\n",
              "    </div>\n",
              "  </div>\n"
            ],
            "application/vnd.google.colaboratory.intrinsic+json": {
              "type": "dataframe",
              "summary": "{\n  \"name\": \"df[['comment', 'clean_comment', 'tonality', 'tonality_encoded']]\",\n  \"rows\": 5,\n  \"fields\": [\n    {\n      \"column\": \"comment\",\n      \"properties\": {\n        \"dtype\": \"string\",\n        \"num_unique_values\": 5,\n        \"samples\": [\n          \"\\u0427\\u0435\\u0440\\u0435\\u0437 2 \\u043c\\u0435\\u0441\\u044f\\u0446\\u0430 \\u043f\\u043e\\u0441\\u043b\\u0435 \\u0438\\u0441\\u0442\\u0435\\u0447\\u0435\\u043d\\u0438\\u0438 \\u0433\\u0430\\u0440\\u0430\\u043d\\u0442\\u0438\\u0439\\u043d\\u043e\\u0433\\u043e \\u0441\\u0440\\u043e\\u043a\\u0430 \\u043c\\u0430\\u0448\\u0438\\u043d\\u043a\\u0430 \\u043d\\u0430\\u0432\\u0435\\u0440\\u043d\\u0443\\u043b\\u0430\\u0441\\u044c. \\u041d\\u0430\\u0441\\u0447\\u0438\\u0442\\u0430\\u043b\\u0438 \\u0440\\u0435\\u043c\\u043e\\u043d\\u0442\\u0443 \\u043d\\u0430 5500\\u0440! \\u041f\\u0440\\u0438\\u0447\\u0435\\u043c \\u0431\\u0440\\u0430\\u043b \\u0435\\u0451 \\u0438\\u0442\\u0430\\u043b\\u044c\\u044f\\u043d\\u0441\\u043a\\u043e\\u0439 \\u0441\\u0431\\u043e\\u0440\\u043a\\u0438!  \\u0421\\u0430\\u043c\\u0430 \\u043c\\u0430\\u0448\\u0438\\u043d\\u043a\\u0430 \\u0431\\u044b\\u043b\\u0430 \\u043d\\u043e\\u0440\\u043c\\u0430\\u043b\\u044c\\u043d\\u0430\\u044f, \\u043f\\u0440\\u0430\\u0432\\u0434\\u0430 \\u043f\\u043e\\u0441\\u043b\\u0435 \\u0441\\u0442\\u0438\\u0440\\u043a\\u0438 \\u0441\\u043d\\u043e\\u0432\\u0430 \\u043f\\u0440\\u043e\\u043f\\u043e\\u043b\\u0430\\u0441\\u043a\\u0438\\u0432\\u0430\\u043b, \\u043d\\u043e \\u044d\\u0442\\u043e \\u043f\\u043e\\u0436\\u0430\\u043b\\u0443\\u0439 \\u043f\\u0440\\u043e \\u043b\\u044e\\u0431\\u0443\\u044e \\u0442\\u0430\\u043a \\u0441\\u043a\\u0430\\u0436\\u0435\\u0448\\u044c - \\u043f\\u043b\\u043e\\u0445\\u043e \\u0432\\u044b\\u043f\\u043e\\u043b\\u0430\\u0441\\u043a\\u0438\\u0432\\u0430\\u0435\\u0442\\u0441\\u044f \\u043f\\u043e\\u0440\\u043e\\u0448\\u043e\\u043a, \\u0445\\u043e\\u0442\\u044f \\u0438 \\u0441\\u044b\\u043f\\u043b\\u044e/\\u043b\\u044c\\u044e \\u043f\\u043e \\u0438\\u043d\\u0441\\u0442\\u0440\\u0443\\u043a\\u0446\\u0438\\u0438 \\u0438 \\u043d\\u0435 \\u0444\\u0438\\u0433\\u043d\\u044e \\u043a\\u0430\\u043a\\u0443\\u044e...  \\u0410 \\u043c\\u0430\\u0441\\u0442\\u0435\\u0440 \\u0430\\u0432\\u0442\\u043e\\u0440\\u0438\\u0437\\u043e\\u0432\\u0430\\u043d\\u043d\\u043e\\u0433\\u043e \\u0441\\u0435\\u0440\\u0432\\u0438\\u0441-\\u0446\\u0435\\u043d\\u0442\\u0440\\u0430 \\u043f\\u043e\\u0432\\u0435\\u0434\\u0430\\u043b \\u043c\\u043d\\u0435 \\u043c\\u043d\\u043e\\u0433\\u043e \\u0438\\u043d\\u0442\\u0435\\u0440\\u0435\\u0441\\u043d\\u043e\\u0433\\u043e... \\u041d\\u0435\\u0442 \\u0441\\u043c\\u044b\\u0441\\u043b\\u0430 \\u043f\\u0435\\u0440\\u0435\\u043f\\u043b\\u0430\\u0447\\u0438\\u0432\\u0430\\u0442\\u044c \\u0441\\u0435\\u0433\\u043e\\u0434\\u043d\\u044f \\u0437\\u0430 \\u0435\\u0432\\u0440\\u043e\\u043f\\u0435\\u0439\\u0441\\u043a\\u0443\\u044e \\u0441\\u0442\\u0440\\u0430\\u043d\\u0443 \\u0438\\u0437\\u0433\\u043e\\u0442\\u043e\\u0432\\u0438\\u0442\\u0435\\u043b\\u044f, \\u043d\\u0435\\u0442 \\u0441\\u043c\\u044b\\u0441\\u043b\\u0430 \\u043f\\u0440\\u0438\\u043e\\u0431\\u0440\\u0435\\u0442\\u0430\\u0442\\u044c \\u043c\\u0430\\u0448\\u0438\\u043d\\u043a\\u0438 \\u0434\\u043e\\u0440\\u043e\\u0436\\u0435 12-15 \\u0442\\u044b\\u0441., \\u0438 \\u0447\\u0442\\u043e \\u0441\\u0435\\u0439\\u0447\\u0430\\u0441 \\u0432\\u0441\\u0435 \\u043f\\u0440\\u043e\\u0438\\u0437\\u0432\\u043e\\u0434\\u0438\\u0442\\u0435\\u043b\\u0438 \\u0437\\u0430\\u0432\\u0435\\u0434\\u043e\\u043c\\u043e \\u0434\\u0435\\u043b\\u0430\\u044e\\u0442 \\u043c\\u0430\\u0448\\u0438\\u043d\\u043a\\u0438, \\u0447\\u0442\\u043e\\u0431\\u044b \\u0442\\u0435 \\u043b\\u043e\\u043c\\u0430\\u043b\\u0438\\u0441\\u044c \\u043f\\u043e\\u0431\\u044b\\u0441\\u0442\\u0440\\u0435\\u0435 ( \\u0432 \\u0441\\u0440\\u0435\\u0434\\u043d\\u0435\\u043c \\u0440\\u0430\\u0437 \\u0432 3-4 \\u0433\\u043e\\u0434\\u0430!!!) \\u0442\\u0435\\u043c \\u0441\\u0430\\u043c\\u044b\\u043c \\u0441\\u0442\\u0438\\u043c\\u0443\\u043b\\u0438\\u0440\\u0443\\u044f \\u0441\\u043f\\u0440\\u043e\\u0441 \\u043d\\u0430 \\u043d\\u043e\\u0432\\u044b\\u0435... \\u0415\\u0434\\u0438\\u043d\\u0441\\u0442\\u0432\\u0435\\u043d\\u043d\\u043e\\u0435, \\u0447\\u0442\\u043e \\u0435\\u0449\\u0435 \\u0436\\u0438\\u0432\\u043e \\u0432 \\u043e\\u0442\\u043d\\u043e\\u0448\\u0435\\u043d\\u0438\\u0438 \\u0440\\u0435\\u0430\\u043b\\u044c\\u043d\\u043e\\u0433\\u043e \\u041a\\u0410\\u0427\\u0415\\u0421\\u0422\\u0412\\u0410, \\u0442\\u0430\\u043a \\u044d\\u0442\\u043e \\u043f\\u043e\\u0436\\u0430\\u043b\\u0443\\u0439 \\u043d\\u0435\\u043c\\u0435\\u0446\\u043a\\u043e\\u0435 \\\"\\u041c\\u0438\\u0435\\u043b\\u0435\\\" (\\u0411\\u043e\\u0448 \\u043a\\u0441\\u0442\\u0430\\u0442\\u0438 \\u0434\\u0430\\u0432\\u043d\\u043e \\u0432 \\u043f\\u0440\\u043e\\u043b\\u0435\\u0442\\u0435 \\u0443\\u0436\\u0435, \\u0441\\u043a\\u0430\\u0442\\u0438\\u043b\\u0441\\u044f), \\u043d\\u043e \\u0438 \\u043e\\u043d\\u0438 \\u043a\\u043e\\u043d\\u0435\\u0447\\u043d\\u043e \\u0442\\u043e\\u0436\\u0435 \\u043b\\u043e\\u043c\\u0430\\u044e\\u0442\\u0441\\u044f \\u0434\\u0430\\u0436\\u0435 \\u043f\\u0440\\u0438 \\u0441\\u0442\\u043e\\u0438\\u043c\\u043e\\u0441\\u0442\\u0438 \\u0432 100000... \\u0412\\u044b\\u0432\\u043e\\u0434: \\u0411\\u0435\\u0440\\u0435\\u043c \\u0441\\u0442\\u0438\\u0440\\u0430\\u043b\\u043a\\u0443 \\u043d\\u0435\\u0434\\u043e\\u0440\\u043e\\u0433\\u0443\\u044e, \\u0442\\u044b\\u0449 \\u0437\\u0430 8-10, \\u0438 \\u041d\\u0415 \\u0421\\u0418\\u041b\\u042c\\u041d\\u041e \\u041e\\u0413\\u041e\\u0420\\u0427\\u0410\\u0415\\u041c\\u0421\\u042f, \\u043a\\u043e\\u0433\\u0434\\u0430 \\u043f\\u043e \\u0438\\u0441\\u0442\\u0435\\u0447\\u0435\\u043d\\u0438\\u044e 3\\u0445-\\u043b\\u0435\\u0442\\u043d\\u0435\\u0439 \\u0441\\u0430\\u043c\\u0441\\u0443\\u043d\\u0433\\u043e\\u0432\\u0441\\u043a\\u043e\\u0439 \\u0433\\u0430\\u0440\\u0430\\u043d\\u0442\\u0438\\u0438 \\u0432\\u0434\\u0440\\u0443\\u0433 \\u043f\\u0440\\u0438\\u0434\\u0435\\u0442\\u0441\\u044f \\u0435\\u0435 \\u0432\\u044b\\u0431\\u0440\\u0430\\u0441\\u044b\\u0432\\u0430\\u0442\\u044c \\u0438 \\u0441\\u043d\\u043e\\u0432\\u0430 \\u043f\\u043e\\u043a\\u0443\\u043f\\u0430\\u0442\\u044c :)\",\n          \"\\u044f \\u0441\\u0447\\u0438\\u0442\\u0430\\u044e, \\u0447\\u0442\\u043e \\u044f\\u0440\\u0438 \\u0437\\u0430\\u043c\\u0435\\u0447\\u0430\\u0442\\u0435\\u043b\\u044c\\u043d\\u044b\\u0439 \\u0442\\u0435\\u043b\\u0435\\u0444\\u043e\\u043d! \\u041f\\u0440\\u0438\\u044f\\u0442\\u043d\\u043e \\u0434\\u0435\\u0440\\u0436\\u0430\\u0442\\u044c \\u0432 \\u0440\\u0443\\u043a\\u0435, \\u0443\\u0434\\u043e\\u0431\\u043d\\u044b\\u0435 \\u043a\\u043d\\u043e\\u043f\\u043a\\u0438! \\u041a\\u043e\\u043d\\u0435\\u0447\\u043d\\u043e, \\u043e\\u043d \\u0431\\u043e\\u043b\\u044c\\u0448\\u0435 \\u043f\\u043e\\u0434\\u0445\\u043e\\u0434\\u0438\\u0442 \\u0434\\u043b\\u044f \\u043c\\u043e\\u043b\\u043e\\u0434\\u0435\\u0436\\u0438, \\u043d\\u0430\\u0432\\u0435\\u0440\\u043d\\u043e\\u0435 \\u043e\\u043d \\u0438 \\u0431\\u044b\\u043b \\u0440\\u0430\\u0441\\u0441\\u0447\\u0438\\u0442\\u0430\\u043d \\u043d\\u0430 \\u044d\\u0442\\u0443 \\u043f\\u0443\\u0431\\u043b\\u0438\\u043a\\u0443! \\u0412 \\u0442\\u0435\\u043b\\u0435\\u0444\\u043e\\u043d\\u0435 \\u043b\\u0438\\u0447\\u043d\\u043e \\u044f, \\u043d\\u0435 \\u0432\\u0438\\u0436\\u0443 \\u043d\\u0438\\u043a\\u0430\\u043a\\u0438\\u0445 \\u043d\\u0435\\u0434\\u043e\\u0441\\u0442\\u0430\\u0442\\u043a\\u043e\\u0432! \\u0421\\u043e\\u0432\\u0435\\u0442\\u0443\\u044e \\u0431\\u0440\\u0430\\u0442\\u044c \\u0442\\u0430\\u043a\\u043e\\u0439 \\u0438 \\u043d\\u0435 \\u0437\\u0430\\u0434\\u0443\\u043c\\u044b\\u0432\\u0430\\u0442\\u044c\\u0441\\u044f!!!!!!!!\",\n          \"\\u043f\\u043e\\u043b\\u044c\\u0437\\u0443\\u044e\\u0441\\u044c \\u0443\\u0436\\u0435 \\u0442\\u0440\\u0438 \\u043d\\u0435\\u0434\\u0435\\u043b\\u0438. \\u043d\\u0430\\u0440\\u0435\\u043a\\u0430\\u043d\\u0438\\u0439 \\u043d\\u0438 \\u043a\\u0430\\u043a\\u0438\\u0445 \\u043d\\u0435 \\u0431\\u044b\\u043b\\u043e, \\u0442\\u043e\\u043b\\u044c\\u043a\\u043e \\u043f\\u043e\\u043b\\u043e\\u0436\\u0438\\u0442\\u0435\\u043b\\u044c\\u043d\\u044b\\u0435 \\u044d\\u043c\\u043e\\u0446\\u0438\\u0438. \\u043d\\u043e \\u0432\\u0447\\u0435\\u0440\\u0430 \\u0437\\u0430\\u0433\\u0440\\u0443\\u0437\\u0438\\u043b \\u043c\\u0430\\u0448\\u0438\\u043d\\u043a\\u0443 \\u043f\\u043e\\u0441\\u0443\\u0434\\u043e\\u0439, \\u0437\\u0430\\u0441\\u044b\\u043f\\u0430\\u043b \\u0441\\u0440\\u0435\\u0434\\u0441\\u0442\\u0432\\u043e \\u0438 \\u0441\\u0442\\u0430\\u043b \\u0437\\u0430\\u043a\\u0440\\u044b\\u0432\\u0430\\u0442\\u044c \\u043a\\u0440\\u044b\\u0448\\u0435\\u0447\\u043a\\u0443, \\u0430 \\u043e\\u043d\\u0430 \\u043d\\u0435 \\u0437\\u0430\\u043a\\u0440\\u044b\\u0432\\u0430\\u0435\\u0442\\u0441\\u044f. \\u044f \\u0435\\u0451 \\u0438 \\u0442\\u0430\\u043a \\u0438 \\u044d\\u0434\\u0430\\u043a, \\u0430 \\u043e\\u043d\\u0430 \\u043d\\u0435 \\u0437\\u0430\\u043a\\u0440\\u044b\\u0432\\u0430\\u0435\\u0442\\u0441\\u044f. \\u043f\\u0440\\u0438\\u0441\\u043c\\u043e\\u0442\\u0440\\u0435\\u043b\\u0441\\u044f, \\u0430 \\u043a\\u0440\\u044b\\u0448\\u043a\\u0430 \\u0434\\u0435\\u0444\\u043e\\u0440\\u043c\\u0438\\u0440\\u043e\\u0432\\u0430\\u043b\\u0430\\u0441\\u044c \\u043f\\u043e \\u043d\\u0435 \\u043f\\u043e\\u043d\\u044f\\u0442\\u043d\\u044b\\u043c \\u043f\\u0440\\u0438\\u0447\\u0438\\u043d\\u0430\\u043c. \\u044f \\u0435\\u0451 \\u043d\\u0435\\u043c\\u043d\\u043e\\u0433\\u043e \\u043f\\u043e\\u0434\\u043f\\u0440\\u0430\\u0432\\u0438\\u043b, \\u0437\\u0430\\u043a\\u0440\\u044b\\u043b\\u0430\\u0441\\u044c. \\u043f\\u043e\\u0441\\u043b\\u0435 \\u0442\\u043e\\u0433\\u043e \\u043a\\u0430\\u043a \\u043f\\u043e\\u043c\\u044b\\u043b\\u0430\\u0441\\u044c \\u043f\\u043e\\u0441\\u0443\\u0434\\u0430, \\u044f \\u0441\\u0440\\u0430\\u0437\\u0443 \\u043e\\u0442\\u043a\\u0440\\u044b\\u043b \\u0438 \\u043e\\u0431\\u0440\\u0430\\u0442\\u0438\\u043b \\u0432\\u043d\\u0438\\u043c\\u0430\\u043d\\u0438\\u0435 \\u043d\\u0430 \\u044d\\u0442\\u0443 \\u043a\\u0440\\u044b\\u0448\\u0435\\u0447\\u043a\\u0443, \\u043e\\u043d\\u0430 \\u0431\\u044b\\u043b\\u0430 \\u043c\\u044f\\u0433\\u043a\\u0430\\u044f \\u043a\\u0430\\u043a \\u043f\\u043b\\u0430\\u0441\\u0442\\u0438\\u043b\\u0438\\u043d. \\u043f\\u043e\\u043b\\u044c\\u0437\\u0443\\u044f\\u0441\\u044c \\u043c\\u043e\\u043c\\u0435\\u043d\\u0442\\u043e\\u043c \\u044f \\u0435\\u0451 \\u0441\\u0440\\u0430\\u0437\\u0443 \\u0432\\u044b\\u043f\\u0440\\u0430\\u0432\\u0438\\u043b. \\u0432\\u0440\\u043e\\u0434\\u0435 \\u0432\\u0441\\u0435 \\u0441\\u0435\\u0439\\u0447\\u0430\\u0441 \\u043d\\u043e\\u0440\\u043c\\u0430\\u043b\\u044c\\u043d\\u043e, \\u043d\\u043e \\u043c\\u043d\\u0435 \\u044d\\u0442\\u043e \\u0432\\u0441\\u0451 \\u0436\\u0443\\u0442\\u043a\\u043e \\u043d\\u0435 \\u043f\\u043e\\u043d\\u0440\\u0430\\u0432\\u0438\\u043b\\u043e\\u0441\\u044c. \\u0435\\u0441\\u043b\\u0438 \\u0435\\u0449\\u0451 \\u0443\\u0447\\u0435\\u0441\\u0442\\u044c \\u0442\\u043e, \\u0447\\u0442\\u043e \\u044f \\u0441\\u0442\\u0430\\u0432\\u043b\\u044e \\u0432\\u0441\\u0435\\u0433\\u0434\\u0430 \\u0440\\u0435\\u0436\\u0438\\u043c 50 \\u0433\\u0440\\u0430\\u0434\\u0443\\u0441\\u043e\\u0432, \\u0430 \\u0447\\u0442\\u043e \\u0435\\u0441\\u043b\\u0438 \\u044f \\u043f\\u043e\\u0441\\u0442\\u0430\\u0432\\u043b\\u044e \\u0440\\u0435\\u0436\\u0438\\u043c 70 \\u0433\\u0440\\u0430\\u0434\\u0443\\u0441\\u043e\\u0432? \\u0432\\u0441\\u0451 \\u0432\\u043d\\u0443\\u0442\\u0440\\u0438 \\u0440\\u0430\\u0441\\u043f\\u043b\\u0430\\u0432\\u0438\\u0442\\u0441\\u044f \\u0438 \\u0443\\u0442\\u0435\\u0447\\u0451\\u0442 \\u0432 \\u043a\\u0430\\u043d\\u0430\\u043b\\u0438\\u0437\\u0430\\u0446\\u0438\\u044e?  \\u0430 \\u043c\\u043e\\u0435\\u0442, \\u043a\\u043e\\u043d\\u0435\\u0447\\u043d\\u043e \\u0437\\u0430\\u043c\\u0435\\u0447\\u0430\\u0442\\u0435\\u043b\\u044c\\u043d\\u043e :-)\"\n        ],\n        \"semantic_type\": \"\",\n        \"description\": \"\"\n      }\n    },\n    {\n      \"column\": \"clean_comment\",\n      \"properties\": {\n        \"dtype\": \"string\",\n        \"num_unique_values\": 5,\n        \"samples\": [\n          \"\\u043c\\u0435\\u0441\\u044f\\u0446\\u0430 \\u0438\\u0441\\u0442\\u0435\\u0447\\u0435\\u043d\\u0438\\u0438 \\u0433\\u0430\\u0440\\u0430\\u043d\\u0442\\u0438\\u0439\\u043d\\u043e\\u0433\\u043e \\u0441\\u0440\\u043e\\u043a\\u0430 \\u043c\\u0430\\u0448\\u0438\\u043d\\u043a\\u0430 \\u043d\\u0430\\u0432\\u0435\\u0440\\u043d\\u0443\\u043b\\u0430\\u0441\\u044c \\u043d\\u0430\\u0441\\u0447\\u0438\\u0442\\u0430\\u043b\\u0438 \\u0440\\u0435\\u043c\\u043e\\u043d\\u0442\\u0443 \\u0440 \\u043f\\u0440\\u0438\\u0447\\u0435\\u043c \\u0431\\u0440\\u0430\\u043b \\u0435 \\u0438\\u0442\\u0430\\u043b\\u044c\\u044f\\u043d\\u0441\\u043a\\u043e\\u0439 \\u0441\\u0431\\u043e\\u0440\\u043a\\u0438 \\u0441\\u0430\\u043c\\u0430 \\u043c\\u0430\\u0448\\u0438\\u043d\\u043a\\u0430 \\u043d\\u043e\\u0440\\u043c\\u0430\\u043b\\u044c\\u043d\\u0430\\u044f \\u043f\\u0440\\u0430\\u0432\\u0434\\u0430 \\u0441\\u0442\\u0438\\u0440\\u043a\\u0438 \\u0441\\u043d\\u043e\\u0432\\u0430 \\u043f\\u0440\\u043e\\u043f\\u043e\\u043b\\u0430\\u0441\\u043a\\u0438\\u0432\\u0430\\u043b \\u044d\\u0442\\u043e \\u043f\\u043e\\u0436\\u0430\\u043b\\u0443\\u0439 \\u043b\\u044e\\u0431\\u0443\\u044e \\u0441\\u043a\\u0430\\u0436\\u0435\\u0448\\u044c \\u043f\\u043b\\u043e\\u0445\\u043e \\u0432\\u044b\\u043f\\u043e\\u043b\\u0430\\u0441\\u043a\\u0438\\u0432\\u0430\\u0435\\u0442\\u0441\\u044f \\u043f\\u043e\\u0440\\u043e\\u0448\\u043e\\u043a \\u0445\\u043e\\u0442\\u044f \\u0441\\u044b\\u043f\\u043b\\u044e \\u043b\\u044c\\u044e \\u0438\\u043d\\u0441\\u0442\\u0440\\u0443\\u043a\\u0446\\u0438\\u0438 \\u0444\\u0438\\u0433\\u043d\\u044e \\u043a\\u0430\\u043a\\u0443\\u044e \\u043c\\u0430\\u0441\\u0442\\u0435\\u0440 \\u0430\\u0432\\u0442\\u043e\\u0440\\u0438\\u0437\\u043e\\u0432\\u0430\\u043d\\u043d\\u043e\\u0433\\u043e \\u0441\\u0435\\u0440\\u0432\\u0438\\u0441 \\u0446\\u0435\\u043d\\u0442\\u0440\\u0430 \\u043f\\u043e\\u0432\\u0435\\u0434\\u0430\\u043b \\u0438\\u043d\\u0442\\u0435\\u0440\\u0435\\u0441\\u043d\\u043e\\u0433\\u043e \\u0441\\u043c\\u044b\\u0441\\u043b\\u0430 \\u043f\\u0435\\u0440\\u0435\\u043f\\u043b\\u0430\\u0447\\u0438\\u0432\\u0430\\u0442\\u044c \\u0441\\u0435\\u0433\\u043e\\u0434\\u043d\\u044f \\u0435\\u0432\\u0440\\u043e\\u043f\\u0435\\u0439\\u0441\\u043a\\u0443\\u044e \\u0441\\u0442\\u0440\\u0430\\u043d\\u0443 \\u0438\\u0437\\u0433\\u043e\\u0442\\u043e\\u0432\\u0438\\u0442\\u0435\\u043b\\u044f \\u0441\\u043c\\u044b\\u0441\\u043b\\u0430 \\u043f\\u0440\\u0438\\u043e\\u0431\\u0440\\u0435\\u0442\\u0430\\u0442\\u044c \\u043c\\u0430\\u0448\\u0438\\u043d\\u043a\\u0438 \\u0434\\u043e\\u0440\\u043e\\u0436\\u0435 \\u0442\\u044b\\u0441 \\u043f\\u0440\\u043e\\u0438\\u0437\\u0432\\u043e\\u0434\\u0438\\u0442\\u0435\\u043b\\u0438 \\u0437\\u0430\\u0432\\u0435\\u0434\\u043e\\u043c\\u043e \\u0434\\u0435\\u043b\\u0430\\u044e\\u0442 \\u043c\\u0430\\u0448\\u0438\\u043d\\u043a\\u0438 \\u0442\\u0435 \\u043b\\u043e\\u043c\\u0430\\u043b\\u0438\\u0441\\u044c \\u043f\\u043e\\u0431\\u044b\\u0441\\u0442\\u0440\\u0435\\u0435 \\u0441\\u0440\\u0435\\u0434\\u043d\\u0435\\u043c \\u0433\\u043e\\u0434\\u0430 \\u0441\\u0430\\u043c\\u044b\\u043c \\u0441\\u0442\\u0438\\u043c\\u0443\\u043b\\u0438\\u0440\\u0443\\u044f \\u0441\\u043f\\u0440\\u043e\\u0441 \\u043d\\u043e\\u0432\\u044b\\u0435 \\u0435\\u0434\\u0438\\u043d\\u0441\\u0442\\u0432\\u0435\\u043d\\u043d\\u043e\\u0435 \\u0436\\u0438\\u0432\\u043e \\u043e\\u0442\\u043d\\u043e\\u0448\\u0435\\u043d\\u0438\\u0438 \\u0440\\u0435\\u0430\\u043b\\u044c\\u043d\\u043e\\u0433\\u043e \\u043a\\u0430\\u0447\\u0435\\u0441\\u0442\\u0432\\u0430 \\u044d\\u0442\\u043e \\u043f\\u043e\\u0436\\u0430\\u043b\\u0443\\u0439 \\u043d\\u0435\\u043c\\u0435\\u0446\\u043a\\u043e\\u0435 \\u043c\\u0438\\u0435\\u043b\\u0435 \\u0431\\u043e\\u0448 \\u043a\\u0441\\u0442\\u0430\\u0442\\u0438 \\u0434\\u0430\\u0432\\u043d\\u043e \\u043f\\u0440\\u043e\\u043b\\u0435\\u0442\\u0435 \\u0441\\u043a\\u0430\\u0442\\u0438\\u043b\\u0441\\u044f \\u043b\\u043e\\u043c\\u0430\\u044e\\u0442\\u0441\\u044f \\u0441\\u0442\\u043e\\u0438\\u043c\\u043e\\u0441\\u0442\\u0438 \\u0432\\u044b\\u0432\\u043e\\u0434 \\u0431\\u0435\\u0440\\u0435\\u043c \\u0441\\u0442\\u0438\\u0440\\u0430\\u043b\\u043a\\u0443 \\u043d\\u0435\\u0434\\u043e\\u0440\\u043e\\u0433\\u0443\\u044e \\u0442\\u044b\\u0449 \\u0441\\u0438\\u043b\\u044c\\u043d\\u043e \\u043e\\u0433\\u043e\\u0440\\u0447\\u0430\\u0435\\u043c\\u0441\\u044f \\u0438\\u0441\\u0442\\u0435\\u0447\\u0435\\u043d\\u0438\\u044e \\u0445 \\u043b\\u0435\\u0442\\u043d\\u0435\\u0439 \\u0441\\u0430\\u043c\\u0441\\u0443\\u043d\\u0433\\u043e\\u0432\\u0441\\u043a\\u043e\\u0439 \\u0433\\u0430\\u0440\\u0430\\u043d\\u0442\\u0438\\u0438 \\u043f\\u0440\\u0438\\u0434\\u0435\\u0442\\u0441\\u044f \\u0432\\u044b\\u0431\\u0440\\u0430\\u0441\\u044b\\u0432\\u0430\\u0442\\u044c \\u0441\\u043d\\u043e\\u0432\\u0430 \\u043f\\u043e\\u043a\\u0443\\u043f\\u0430\\u0442\\u044c\",\n          \"\\u0441\\u0447\\u0438\\u0442\\u0430\\u044e \\u044f\\u0440\\u0438 \\u0437\\u0430\\u043c\\u0435\\u0447\\u0430\\u0442\\u0435\\u043b\\u044c\\u043d\\u044b\\u0439 \\u0442\\u0435\\u043b\\u0435\\u0444\\u043e\\u043d \\u043f\\u0440\\u0438\\u044f\\u0442\\u043d\\u043e \\u0434\\u0435\\u0440\\u0436\\u0430\\u0442\\u044c \\u0440\\u0443\\u043a\\u0435 \\u0443\\u0434\\u043e\\u0431\\u043d\\u044b\\u0435 \\u043a\\u043d\\u043e\\u043f\\u043a\\u0438 \\u043f\\u043e\\u0434\\u0445\\u043e\\u0434\\u0438\\u0442 \\u043c\\u043e\\u043b\\u043e\\u0434\\u0435\\u0436\\u0438 \\u043d\\u0430\\u0432\\u0435\\u0440\\u043d\\u043e\\u0435 \\u0440\\u0430\\u0441\\u0441\\u0447\\u0438\\u0442\\u0430\\u043d \\u043f\\u0443\\u0431\\u043b\\u0438\\u043a\\u0443 \\u0442\\u0435\\u043b\\u0435\\u0444\\u043e\\u043d\\u0435 \\u043b\\u0438\\u0447\\u043d\\u043e \\u0432\\u0438\\u0436\\u0443 \\u043d\\u0438\\u043a\\u0430\\u043a\\u0438\\u0445 \\u043d\\u0435\\u0434\\u043e\\u0441\\u0442\\u0430\\u0442\\u043a\\u043e\\u0432 \\u0441\\u043e\\u0432\\u0435\\u0442\\u0443\\u044e \\u0431\\u0440\\u0430\\u0442\\u044c \\u0437\\u0430\\u0434\\u0443\\u043c\\u044b\\u0432\\u0430\\u0442\\u044c\\u0441\\u044f\",\n          \"\\u043f\\u043e\\u043b\\u044c\\u0437\\u0443\\u044e\\u0441\\u044c \\u043d\\u0435\\u0434\\u0435\\u043b\\u0438 \\u043d\\u0430\\u0440\\u0435\\u043a\\u0430\\u043d\\u0438\\u0439 \\u043a\\u0430\\u043a\\u0438\\u0445 \\u043f\\u043e\\u043b\\u043e\\u0436\\u0438\\u0442\\u0435\\u043b\\u044c\\u043d\\u044b\\u0435 \\u044d\\u043c\\u043e\\u0446\\u0438\\u0438 \\u0432\\u0447\\u0435\\u0440\\u0430 \\u0437\\u0430\\u0433\\u0440\\u0443\\u0437\\u0438\\u043b \\u043c\\u0430\\u0448\\u0438\\u043d\\u043a\\u0443 \\u043f\\u043e\\u0441\\u0443\\u0434\\u043e\\u0439 \\u0437\\u0430\\u0441\\u044b\\u043f\\u0430\\u043b \\u0441\\u0440\\u0435\\u0434\\u0441\\u0442\\u0432\\u043e \\u0441\\u0442\\u0430\\u043b \\u0437\\u0430\\u043a\\u0440\\u044b\\u0432\\u0430\\u0442\\u044c \\u043a\\u0440\\u044b\\u0448\\u0435\\u0447\\u043a\\u0443 \\u0437\\u0430\\u043a\\u0440\\u044b\\u0432\\u0430\\u0435\\u0442\\u0441\\u044f \\u0435 \\u044d\\u0434\\u0430\\u043a \\u0437\\u0430\\u043a\\u0440\\u044b\\u0432\\u0430\\u0435\\u0442\\u0441\\u044f \\u043f\\u0440\\u0438\\u0441\\u043c\\u043e\\u0442\\u0440\\u0435\\u043b\\u0441\\u044f \\u043a\\u0440\\u044b\\u0448\\u043a\\u0430 \\u0434\\u0435\\u0444\\u043e\\u0440\\u043c\\u0438\\u0440\\u043e\\u0432\\u0430\\u043b\\u0430\\u0441\\u044c \\u043f\\u043e\\u043d\\u044f\\u0442\\u043d\\u044b\\u043c \\u043f\\u0440\\u0438\\u0447\\u0438\\u043d\\u0430\\u043c \\u0435 \\u043d\\u0435\\u043c\\u043d\\u043e\\u0433\\u043e \\u043f\\u043e\\u0434\\u043f\\u0440\\u0430\\u0432\\u0438\\u043b \\u0437\\u0430\\u043a\\u0440\\u044b\\u043b\\u0430\\u0441\\u044c \\u043f\\u043e\\u043c\\u044b\\u043b\\u0430\\u0441\\u044c \\u043f\\u043e\\u0441\\u0443\\u0434\\u0430 \\u0441\\u0440\\u0430\\u0437\\u0443 \\u043e\\u0442\\u043a\\u0440\\u044b\\u043b \\u043e\\u0431\\u0440\\u0430\\u0442\\u0438\\u043b \\u0432\\u043d\\u0438\\u043c\\u0430\\u043d\\u0438\\u0435 \\u043a\\u0440\\u044b\\u0448\\u0435\\u0447\\u043a\\u0443 \\u043c\\u044f\\u0433\\u043a\\u0430\\u044f \\u043f\\u043b\\u0430\\u0441\\u0442\\u0438\\u043b\\u0438\\u043d \\u043f\\u043e\\u043b\\u044c\\u0437\\u0443\\u044f\\u0441\\u044c \\u043c\\u043e\\u043c\\u0435\\u043d\\u0442\\u043e\\u043c \\u0435 \\u0441\\u0440\\u0430\\u0437\\u0443 \\u0432\\u044b\\u043f\\u0440\\u0430\\u0432\\u0438\\u043b \\u0432\\u0440\\u043e\\u0434\\u0435 \\u043d\\u043e\\u0440\\u043c\\u0430\\u043b\\u044c\\u043d\\u043e \\u044d\\u0442\\u043e \\u0432\\u0441 \\u0436\\u0443\\u0442\\u043a\\u043e \\u043f\\u043e\\u043d\\u0440\\u0430\\u0432\\u0438\\u043b\\u043e\\u0441\\u044c \\u0435\\u0449 \\u0443\\u0447\\u0435\\u0441\\u0442\\u044c \\u0441\\u0442\\u0430\\u0432\\u043b\\u044e \\u0440\\u0435\\u0436\\u0438\\u043c \\u0433\\u0440\\u0430\\u0434\\u0443\\u0441\\u043e\\u0432 \\u043f\\u043e\\u0441\\u0442\\u0430\\u0432\\u043b\\u044e \\u0440\\u0435\\u0436\\u0438\\u043c \\u0433\\u0440\\u0430\\u0434\\u0443\\u0441\\u043e\\u0432 \\u0432\\u0441 \\u0432\\u043d\\u0443\\u0442\\u0440\\u0438 \\u0440\\u0430\\u0441\\u043f\\u043b\\u0430\\u0432\\u0438\\u0442\\u0441\\u044f \\u0443\\u0442\\u0435\\u0447 \\u0442 \\u043a\\u0430\\u043d\\u0430\\u043b\\u0438\\u0437\\u0430\\u0446\\u0438\\u044e \\u043c\\u043e\\u0435\\u0442 \\u0437\\u0430\\u043c\\u0435\\u0447\\u0430\\u0442\\u0435\\u043b\\u044c\\u043d\\u043e\"\n        ],\n        \"semantic_type\": \"\",\n        \"description\": \"\"\n      }\n    },\n    {\n      \"column\": \"tonality\",\n      \"properties\": {\n        \"dtype\": \"category\",\n        \"num_unique_values\": 2,\n        \"samples\": [\n          \"positive\",\n          \"negative\"\n        ],\n        \"semantic_type\": \"\",\n        \"description\": \"\"\n      }\n    },\n    {\n      \"column\": \"tonality_encoded\",\n      \"properties\": {\n        \"dtype\": \"number\",\n        \"std\": 0,\n        \"min\": 0,\n        \"max\": 1,\n        \"num_unique_values\": 2,\n        \"samples\": [\n          1,\n          0\n        ],\n        \"semantic_type\": \"\",\n        \"description\": \"\"\n      }\n    }\n  ]\n}"
            }
          },
          "metadata": {},
          "execution_count": 7
        }
      ]
    },
    {
      "cell_type": "markdown",
      "source": [
        "**TRAIN-TEST SPLIT**"
      ],
      "metadata": {
        "id": "uk1QGfMbombe"
      }
    },
    {
      "cell_type": "code",
      "source": [
        "# Train-Test Split\n",
        "X = df['clean_comment']\n",
        "y = df['tonality_encoded']\n",
        "X_train, X_test, y_train, y_test = train_test_split(X, y, test_size=0.2, random_state=42)"
      ],
      "metadata": {
        "id": "joPrkJbyoTAD"
      },
      "execution_count": 8,
      "outputs": []
    },
    {
      "cell_type": "code",
      "source": [
        "from sklearn.feature_extraction.text import CountVectorizer, TfidfVectorizer\n",
        "from sklearn.ensemble import RandomForestClassifier, AdaBoostClassifier\n",
        "from xgboost import XGBClassifier\n",
        "from sklearn.metrics import classification_report, accuracy_score\n",
        "from imblearn.over_sampling import SMOTE\n",
        "import nltk\n",
        "from nltk.corpus import stopwords\n",
        "from nltk.tokenize import word_tokenize"
      ],
      "metadata": {
        "id": "ojv48PjupI2k"
      },
      "execution_count": 9,
      "outputs": []
    },
    {
      "cell_type": "markdown",
      "source": [
        "**BAG OF WORDS**"
      ],
      "metadata": {
        "id": "uQWqMLvDuFew"
      }
    },
    {
      "cell_type": "code",
      "source": [
        "# Bag of Words\n",
        "bow_vectorizer = CountVectorizer(max_features=5000)\n",
        "X_train_bow = bow_vectorizer.fit_transform(X_train)\n",
        "X_test_bow = bow_vectorizer.transform(X_test)"
      ],
      "metadata": {
        "id": "mnjYwwa5o1hW"
      },
      "execution_count": 10,
      "outputs": []
    },
    {
      "cell_type": "code",
      "source": [
        "smote = SMOTE(random_state=42)\n",
        "X_train_bow, y_train_resampled = smote.fit_resample(X_train_bow, y_train)"
      ],
      "metadata": {
        "id": "VFjnccLfrPgV"
      },
      "execution_count": 11,
      "outputs": []
    },
    {
      "cell_type": "code",
      "source": [
        "# Random Forest\n",
        "rf = RandomForestClassifier(n_estimators=400)\n",
        "rf.fit(X_train_bow, y_train_resampled)\n",
        "pred_rf = rf.predict(X_test_bow)\n",
        "print(\"Random Forest (BoW):\\n\", classification_report(y_test, pred_rf))"
      ],
      "metadata": {
        "colab": {
          "base_uri": "https://localhost:8080/"
        },
        "id": "zTpuaw1hpRqC",
        "outputId": "e56b0f75-a3ef-4506-c321-5823c4bc13c2"
      },
      "execution_count": 12,
      "outputs": [
        {
          "output_type": "stream",
          "name": "stdout",
          "text": [
            "Random Forest (BoW):\n",
            "               precision    recall  f1-score   support\n",
            "\n",
            "           0       0.51      0.41      0.46       478\n",
            "           1       0.89      0.92      0.90      2379\n",
            "\n",
            "    accuracy                           0.84      2857\n",
            "   macro avg       0.70      0.67      0.68      2857\n",
            "weighted avg       0.82      0.84      0.83      2857\n",
            "\n"
          ]
        }
      ]
    },
    {
      "cell_type": "code",
      "source": [
        "# XGBoost\n",
        "xgb = XGBClassifier(n_estimators = 400, eval_metric='logloss')\n",
        "xgb.fit(X_train_bow, y_train_resampled)\n",
        "pred_xgb = xgb.predict(X_test_bow)\n",
        "print(\"XGBoost (BoW):\\n\", classification_report(y_test, pred_xgb))"
      ],
      "metadata": {
        "colab": {
          "base_uri": "https://localhost:8080/"
        },
        "id": "9ZnHwvIqsFP_",
        "outputId": "c8cb6043-0080-42b8-f3e1-88e549d66e75"
      },
      "execution_count": 13,
      "outputs": [
        {
          "output_type": "stream",
          "name": "stdout",
          "text": [
            "XGBoost (BoW):\n",
            "               precision    recall  f1-score   support\n",
            "\n",
            "           0       0.69      0.64      0.67       478\n",
            "           1       0.93      0.94      0.94      2379\n",
            "\n",
            "    accuracy                           0.89      2857\n",
            "   macro avg       0.81      0.79      0.80      2857\n",
            "weighted avg       0.89      0.89      0.89      2857\n",
            "\n"
          ]
        }
      ]
    },
    {
      "cell_type": "code",
      "source": [
        "cm = confusion_matrix(y_test, pred_xgb)\n",
        "plt.figure(figsize=(5, 4))\n",
        "sns.heatmap(cm, annot=True, fmt=\"d\", cmap=\"Blues\", xticklabels=[\"Negative\", \"Positive\"], yticklabels=[\"Negative\", \"Positive\"])\n",
        "plt.xlabel(\"Predicted\")\n",
        "plt.ylabel(\"Actual\")\n",
        "plt.title(\"Confusion Matrix\")\n",
        "plt.show()"
      ],
      "metadata": {
        "colab": {
          "base_uri": "https://localhost:8080/",
          "height": 410
        },
        "id": "rZNnwmwKA-bI",
        "outputId": "e15b8731-deb1-4e17-c02a-e8542d8e299b"
      },
      "execution_count": 67,
      "outputs": [
        {
          "output_type": "display_data",
          "data": {
            "text/plain": [
              "<Figure size 500x400 with 2 Axes>"
            ],
            "image/png": "[encoded data removed]"
          },
          "metadata": {}
        }
      ]
    },
    {
      "cell_type": "code",
      "source": [
        "# AdaBoost\n",
        "ada = AdaBoostClassifier(n_estimators= 400)\n",
        "ada.fit(X_train_bow, y_train_resampled)\n",
        "pred_ada = ada.predict(X_test_bow)\n",
        "print(\"AdaBoost (BoW):\\n\", classification_report(y_test, pred_ada))"
      ],
      "metadata": {
        "colab": {
          "base_uri": "https://localhost:8080/"
        },
        "id": "f4BdWKunsmXN",
        "outputId": "4f0c2179-3cca-41ed-d016-09200ff56f1b"
      },
      "execution_count": 14,
      "outputs": [
        {
          "output_type": "stream",
          "name": "stdout",
          "text": [
            "AdaBoost (BoW):\n",
            "               precision    recall  f1-score   support\n",
            "\n",
            "           0       0.33      0.70      0.45       478\n",
            "           1       0.92      0.72      0.81      2379\n",
            "\n",
            "    accuracy                           0.71      2857\n",
            "   macro avg       0.63      0.71      0.63      2857\n",
            "weighted avg       0.82      0.71      0.75      2857\n",
            "\n"
          ]
        }
      ]
    },
    {
      "cell_type": "markdown",
      "source": [
        "**TF-IDF**"
      ],
      "metadata": {
        "id": "z2l3M4h7wlcg"
      }
    },
    {
      "cell_type": "code",
      "source": [
        "# TF-IDF\n",
        "tfidf_vectorizer = TfidfVectorizer(max_features=5000)\n",
        "X_train_tfidf = tfidf_vectorizer.fit_transform(X_train)\n",
        "X_test_tfidf = tfidf_vectorizer.transform(X_test)"
      ],
      "metadata": {
        "id": "LgGl_jmFwo-a"
      },
      "execution_count": 15,
      "outputs": []
    },
    {
      "cell_type": "code",
      "source": [
        "smote = SMOTE(random_state=42)\n",
        "X_train_tfidf, y_train_resampled = smote.fit_resample(X_train_tfidf, y_train)"
      ],
      "metadata": {
        "id": "w6tm2k7LwvqE"
      },
      "execution_count": 16,
      "outputs": []
    },
    {
      "cell_type": "code",
      "source": [
        "# Random Forest\n",
        "rf = RandomForestClassifier(n_estimators=400)\n",
        "rf.fit(X_train_tfidf, y_train_resampled)\n",
        "pred_rf_tfidf = rf.predict(X_test_tfidf)\n",
        "print(\"Random Forest (TF-IDF):\\n\", classification_report(y_test, pred_rf_tfidf))"
      ],
      "metadata": {
        "colab": {
          "base_uri": "https://localhost:8080/"
        },
        "id": "YIn3BUImw0UF",
        "outputId": "b44a32b2-316d-4fbe-d01e-50da65139dee"
      },
      "execution_count": 17,
      "outputs": [
        {
          "output_type": "stream",
          "name": "stdout",
          "text": [
            "Random Forest (TF-IDF):\n",
            "               precision    recall  f1-score   support\n",
            "\n",
            "           0       0.65      0.51      0.57       478\n",
            "           1       0.91      0.94      0.92      2379\n",
            "\n",
            "    accuracy                           0.87      2857\n",
            "   macro avg       0.78      0.73      0.75      2857\n",
            "weighted avg       0.86      0.87      0.87      2857\n",
            "\n"
          ]
        }
      ]
    },
    {
      "cell_type": "code",
      "source": [
        "# XGBoost\n",
        "xgb = XGBClassifier(n_estimators = 400, eval_metric='logloss')\n",
        "xgb.fit(X_train_tfidf, y_train_resampled)\n",
        "pred_xg_tfidf = rf.predict(X_test_tfidf)\n",
        "print(\"XGBoost (TF-IDF):\\n\", classification_report(y_test, pred_xg_tfidf))"
      ],
      "metadata": {
        "colab": {
          "base_uri": "https://localhost:8080/"
        },
        "id": "8p7HZ-Y9w96X",
        "outputId": "d19b1b3e-4559-4676-c66e-d3c2b09c3b26"
      },
      "execution_count": 18,
      "outputs": [
        {
          "output_type": "stream",
          "name": "stdout",
          "text": [
            "XGBoost (TF-IDF):\n",
            "               precision    recall  f1-score   support\n",
            "\n",
            "           0       0.65      0.51      0.57       478\n",
            "           1       0.91      0.94      0.92      2379\n",
            "\n",
            "    accuracy                           0.87      2857\n",
            "   macro avg       0.78      0.73      0.75      2857\n",
            "weighted avg       0.86      0.87      0.87      2857\n",
            "\n"
          ]
        }
      ]
    },
    {
      "cell_type": "code",
      "source": [
        "# AdaBoost\n",
        "ada = AdaBoostClassifier(n_estimators= 400)\n",
        "ada.fit(X_train_tfidf, y_train_resampled)\n",
        "pred_ada_tfidf = rf.predict(X_test_tfidf)\n",
        "print(\"AdaBoost (TF-IDF):\\n\", classification_report(y_test, pred_ada_tfidf))"
      ],
      "metadata": {
        "colab": {
          "base_uri": "https://localhost:8080/"
        },
        "id": "a3P0fvbSxBTY",
        "outputId": "f1b63ef5-1348-4cb9-db77-4e9ccca2e47d"
      },
      "execution_count": 19,
      "outputs": [
        {
          "output_type": "stream",
          "name": "stdout",
          "text": [
            "AdaBoost (TF-IDF):\n",
            "               precision    recall  f1-score   support\n",
            "\n",
            "           0       0.65      0.51      0.57       478\n",
            "           1       0.91      0.94      0.92      2379\n",
            "\n",
            "    accuracy                           0.87      2857\n",
            "   macro avg       0.78      0.73      0.75      2857\n",
            "weighted avg       0.86      0.87      0.87      2857\n",
            "\n"
          ]
        }
      ]
    },
    {
      "cell_type": "markdown",
      "source": [
        "**USING EMBEDDING**"
      ],
      "metadata": {
        "id": "SkuDwbRe_67R"
      }
    },
    {
      "cell_type": "code",
      "source": [
        "import tensorflow as tf\n",
        "from tensorflow.keras.preprocessing.text import Tokenizer\n",
        "from tensorflow.keras.preprocessing.sequence import pad_sequences\n",
        "from tensorflow.keras.models import Sequential\n",
        "from tensorflow.keras.layers import Embedding, LSTM, Dense, Dropout, Bidirectional, GRU"
      ],
      "metadata": {
        "id": "407fwN8G1q9m"
      },
      "execution_count": 35,
      "outputs": []
    },
    {
      "cell_type": "code",
      "source": [
        "# Tokenization\n",
        "max_words = 5000  # Vocabulary size\n",
        "max_len = 100     # Max length of a comment\n",
        "\n",
        "tokenizer = Tokenizer(num_words=max_words, oov_token=\"<OOV>\")\n",
        "tokenizer.fit_on_texts(df['clean_comment'])\n",
        "sequences = tokenizer.texts_to_sequences(df['clean_comment'])\n",
        "padded_sequences = pad_sequences(sequences, maxlen=max_len, padding='post', truncating='post')\n",
        "# Train-test split\n",
        "X_train, X_test, y_train, y_test = train_test_split(padded_sequences, df['tonality_encoded'], test_size=0.2, random_state=42)\n"
      ],
      "metadata": {
        "id": "CoriTgkU1d9j"
      },
      "execution_count": 21,
      "outputs": []
    },
    {
      "cell_type": "code",
      "source": [
        "# Build LSTM Model\n",
        "model = Sequential([\n",
        "    Embedding(input_dim=max_words, output_dim=100, input_length=max_len),\n",
        "    LSTM(64, return_sequences=True),\n",
        "    Dropout(0.3),\n",
        "    LSTM(32),\n",
        "    Dense(16, activation='relu'),\n",
        "    Dense(1, activation='sigmoid')  # Binary classification (positive/negative)\n",
        "])\n",
        "# Compile the model\n",
        "model.compile(optimizer='adam', loss='binary_crossentropy', metrics=['accuracy'])\n",
        "model.build(input_shape=(None, max_len))\n",
        "model.summary()"
      ],
      "metadata": {
        "colab": {
          "base_uri": "https://localhost:8080/",
          "height": 321
        },
        "id": "KPU7U77H1ldv",
        "outputId": "949396bd-6bc5-4e48-c7d4-c4b9da7ba3f7"
      },
      "execution_count": 36,
      "outputs": [
        {
          "output_type": "display_data",
          "data": {
            "text/plain": [
              "\u001b[1mModel: \"sequential_3\"\u001b[0m\n"
            ],
            "text/html": [
              "<pre style=\"white-space:pre;overflow-x:auto;line-height:normal;font-family:Menlo,'DejaVu Sans Mono',consolas,'Courier New',monospace\"><span style=\"font-weight: bold\">Model: \"sequential_3\"</span>\n",
              "</pre>\n"
            ]
          },
          "metadata": {}
        },
        {
          "output_type": "display_data",
          "data": {
            "text/plain": [
              "┏━━━━━━━━━━━━━━━━━━━━━━━━━━━━━━━━━━━━━━┳━━━━━━━━━━━━━━━━━━━━━━━━━━━━━┳━━━━━━━━━━━━━━━━━┓\n",
              "┃\u001b[1m \u001b[0m\u001b[1mLayer (type)                        \u001b[0m\u001b[1m \u001b[0m┃\u001b[1m \u001b[0m\u001b[1mOutput Shape               \u001b[0m\u001b[1m \u001b[0m┃\u001b[1m \u001b[0m\u001b[1m        Param #\u001b[0m\u001b[1m \u001b[0m┃\n",
              "┡━━━━━━━━━━━━━━━━━━━━━━━━━━━━━━━━━━━━━━╇━━━━━━━━━━━━━━━━━━━━━━━━━━━━━╇━━━━━━━━━━━━━━━━━┩\n",
              "│ embedding_3 (\u001b[38;5;33mEmbedding\u001b[0m)              │ (\u001b[38;5;45mNone\u001b[0m, \u001b[38;5;34m100\u001b[0m, \u001b[38;5;34m100\u001b[0m)            │         \u001b[38;5;34m500,000\u001b[0m │\n",
              "├──────────────────────────────────────┼─────────────────────────────┼─────────────────┤\n",
              "│ lstm_6 (\u001b[38;5;33mLSTM\u001b[0m)                        │ (\u001b[38;5;45mNone\u001b[0m, \u001b[38;5;34m100\u001b[0m, \u001b[38;5;34m64\u001b[0m)             │          \u001b[38;5;34m42,240\u001b[0m │\n",
              "├──────────────────────────────────────┼─────────────────────────────┼─────────────────┤\n",
              "│ dropout_4 (\u001b[38;5;33mDropout\u001b[0m)                  │ (\u001b[38;5;45mNone\u001b[0m, \u001b[38;5;34m100\u001b[0m, \u001b[38;5;34m64\u001b[0m)             │               \u001b[38;5;34m0\u001b[0m │\n",
              "├──────────────────────────────────────┼─────────────────────────────┼─────────────────┤\n",
              "│ lstm_7 (\u001b[38;5;33mLSTM\u001b[0m)                        │ (\u001b[38;5;45mNone\u001b[0m, \u001b[38;5;34m32\u001b[0m)                  │          \u001b[38;5;34m12,416\u001b[0m │\n",
              "├──────────────────────────────────────┼─────────────────────────────┼─────────────────┤\n",
              "│ dense_6 (\u001b[38;5;33mDense\u001b[0m)                      │ (\u001b[38;5;45mNone\u001b[0m, \u001b[38;5;34m16\u001b[0m)                  │             \u001b[38;5;34m528\u001b[0m │\n",
              "├──────────────────────────────────────┼─────────────────────────────┼─────────────────┤\n",
              "│ dense_7 (\u001b[38;5;33mDense\u001b[0m)                      │ (\u001b[38;5;45mNone\u001b[0m, \u001b[38;5;34m1\u001b[0m)                   │              \u001b[38;5;34m17\u001b[0m │\n",
              "└──────────────────────────────────────┴─────────────────────────────┴─────────────────┘\n"
            ],
            "text/html": [
              "<pre style=\"white-space:pre;overflow-x:auto;line-height:normal;font-family:Menlo,'DejaVu Sans Mono',consolas,'Courier New',monospace\">┏━━━━━━━━━━━━━━━━━━━━━━━━━━━━━━━━━━━━━━┳━━━━━━━━━━━━━━━━━━━━━━━━━━━━━┳━━━━━━━━━━━━━━━━━┓\n",
              "┃<span style=\"font-weight: bold\"> Layer (type)                         </span>┃<span style=\"font-weight: bold\"> Output Shape                </span>┃<span style=\"font-weight: bold\">         Param # </span>┃\n",
              "┡━━━━━━━━━━━━━━━━━━━━━━━━━━━━━━━━━━━━━━╇━━━━━━━━━━━━━━━━━━━━━━━━━━━━━╇━━━━━━━━━━━━━━━━━┩\n",
              "│ embedding_3 (<span style=\"color: #0087ff; text-decoration-color: #0087ff\">Embedding</span>)              │ (<span style=\"color: #00d7ff; text-decoration-color: #00d7ff\">None</span>, <span style=\"color: #00af00; text-decoration-color: #00af00\">100</span>, <span style=\"color: #00af00; text-decoration-color: #00af00\">100</span>)            │         <span style=\"color: #00af00; text-decoration-color: #00af00\">500,000</span> │\n",
              "├──────────────────────────────────────┼─────────────────────────────┼─────────────────┤\n",
              "│ lstm_6 (<span style=\"color: #0087ff; text-decoration-color: #0087ff\">LSTM</span>)                        │ (<span style=\"color: #00d7ff; text-decoration-color: #00d7ff\">None</span>, <span style=\"color: #00af00; text-decoration-color: #00af00\">100</span>, <span style=\"color: #00af00; text-decoration-color: #00af00\">64</span>)             │          <span style=\"color: #00af00; text-decoration-color: #00af00\">42,240</span> │\n",
              "├──────────────────────────────────────┼─────────────────────────────┼─────────────────┤\n",
              "│ dropout_4 (<span style=\"color: #0087ff; text-decoration-color: #0087ff\">Dropout</span>)                  │ (<span style=\"color: #00d7ff; text-decoration-color: #00d7ff\">None</span>, <span style=\"color: #00af00; text-decoration-color: #00af00\">100</span>, <span style=\"color: #00af00; text-decoration-color: #00af00\">64</span>)             │               <span style=\"color: #00af00; text-decoration-color: #00af00\">0</span> │\n",
              "├──────────────────────────────────────┼─────────────────────────────┼─────────────────┤\n",
              "│ lstm_7 (<span style=\"color: #0087ff; text-decoration-color: #0087ff\">LSTM</span>)                        │ (<span style=\"color: #00d7ff; text-decoration-color: #00d7ff\">None</span>, <span style=\"color: #00af00; text-decoration-color: #00af00\">32</span>)                  │          <span style=\"color: #00af00; text-decoration-color: #00af00\">12,416</span> │\n",
              "├──────────────────────────────────────┼─────────────────────────────┼─────────────────┤\n",
              "│ dense_6 (<span style=\"color: #0087ff; text-decoration-color: #0087ff\">Dense</span>)                      │ (<span style=\"color: #00d7ff; text-decoration-color: #00d7ff\">None</span>, <span style=\"color: #00af00; text-decoration-color: #00af00\">16</span>)                  │             <span style=\"color: #00af00; text-decoration-color: #00af00\">528</span> │\n",
              "├──────────────────────────────────────┼─────────────────────────────┼─────────────────┤\n",
              "│ dense_7 (<span style=\"color: #0087ff; text-decoration-color: #0087ff\">Dense</span>)                      │ (<span style=\"color: #00d7ff; text-decoration-color: #00d7ff\">None</span>, <span style=\"color: #00af00; text-decoration-color: #00af00\">1</span>)                   │              <span style=\"color: #00af00; text-decoration-color: #00af00\">17</span> │\n",
              "└──────────────────────────────────────┴─────────────────────────────┴─────────────────┘\n",
              "</pre>\n"
            ]
          },
          "metadata": {}
        },
        {
          "output_type": "display_data",
          "data": {
            "text/plain": [
              "\u001b[1m Total params: \u001b[0m\u001b[38;5;34m555,201\u001b[0m (2.12 MB)\n"
            ],
            "text/html": [
              "<pre style=\"white-space:pre;overflow-x:auto;line-height:normal;font-family:Menlo,'DejaVu Sans Mono',consolas,'Courier New',monospace\"><span style=\"font-weight: bold\"> Total params: </span><span style=\"color: #00af00; text-decoration-color: #00af00\">555,201</span> (2.12 MB)\n",
              "</pre>\n"
            ]
          },
          "metadata": {}
        },
        {
          "output_type": "display_data",
          "data": {
            "text/plain": [
              "\u001b[1m Trainable params: \u001b[0m\u001b[38;5;34m555,201\u001b[0m (2.12 MB)\n"
            ],
            "text/html": [
              "<pre style=\"white-space:pre;overflow-x:auto;line-height:normal;font-family:Menlo,'DejaVu Sans Mono',consolas,'Courier New',monospace\"><span style=\"font-weight: bold\"> Trainable params: </span><span style=\"color: #00af00; text-decoration-color: #00af00\">555,201</span> (2.12 MB)\n",
              "</pre>\n"
            ]
          },
          "metadata": {}
        },
        {
          "output_type": "display_data",
          "data": {
            "text/plain": [
              "\u001b[1m Non-trainable params: \u001b[0m\u001b[38;5;34m0\u001b[0m (0.00 B)\n"
            ],
            "text/html": [
              "<pre style=\"white-space:pre;overflow-x:auto;line-height:normal;font-family:Menlo,'DejaVu Sans Mono',consolas,'Courier New',monospace\"><span style=\"font-weight: bold\"> Non-trainable params: </span><span style=\"color: #00af00; text-decoration-color: #00af00\">0</span> (0.00 B)\n",
              "</pre>\n"
            ]
          },
          "metadata": {}
        }
      ]
    },
    {
      "cell_type": "code",
      "source": [
        "history = model.fit(X_train, y_train, validation_data=(X_test, y_test), epochs=50, batch_size=64)"
      ],
      "metadata": {
        "colab": {
          "base_uri": "https://localhost:8080/"
        },
        "id": "-J2Ve59d2nkp",
        "outputId": "2a12fb91-248f-4ae3-fde1-27bc88faed0e"
      },
      "execution_count": 37,
      "outputs": [
        {
          "output_type": "stream",
          "name": "stdout",
          "text": [
            "Epoch 1/50\n",
            "\u001b[1m179/179\u001b[0m \u001b[32m━━━━━━━━━━━━━━━━━━━━\u001b[0m\u001b[37m\u001b[0m \u001b[1m5s\u001b[0m 15ms/step - accuracy: 0.8326 - loss: 0.4754 - val_accuracy: 0.8327 - val_loss: 0.4517\n",
            "Epoch 2/50\n",
            "\u001b[1m179/179\u001b[0m \u001b[32m━━━━━━━━━━━━━━━━━━━━\u001b[0m\u001b[37m\u001b[0m \u001b[1m5s\u001b[0m 13ms/step - accuracy: 0.8394 - loss: 0.4421 - val_accuracy: 0.8327 - val_loss: 0.4516\n",
            "Epoch 3/50\n",
            "\u001b[1m179/179\u001b[0m \u001b[32m━━━━━━━━━━━━━━━━━━━━\u001b[0m\u001b[37m\u001b[0m \u001b[1m3s\u001b[0m 17ms/step - accuracy: 0.8424 - loss: 0.4371 - val_accuracy: 0.8327 - val_loss: 0.4526\n",
            "Epoch 4/50\n",
            "\u001b[1m179/179\u001b[0m \u001b[32m━━━━━━━━━━━━━━━━━━━━\u001b[0m\u001b[37m\u001b[0m \u001b[1m4s\u001b[0m 13ms/step - accuracy: 0.8333 - loss: 0.4524 - val_accuracy: 0.8327 - val_loss: 0.4518\n",
            "Epoch 5/50\n",
            "\u001b[1m179/179\u001b[0m \u001b[32m━━━━━━━━━━━━━━━━━━━━\u001b[0m\u001b[37m\u001b[0m \u001b[1m3s\u001b[0m 15ms/step - accuracy: 0.8306 - loss: 0.4554 - val_accuracy: 0.8327 - val_loss: 0.4515\n",
            "Epoch 6/50\n",
            "\u001b[1m179/179\u001b[0m \u001b[32m━━━━━━━━━━━━━━━━━━━━\u001b[0m\u001b[37m\u001b[0m \u001b[1m7s\u001b[0m 28ms/step - accuracy: 0.8389 - loss: 0.4416 - val_accuracy: 0.8327 - val_loss: 0.4517\n",
            "Epoch 7/50\n",
            "\u001b[1m179/179\u001b[0m \u001b[32m━━━━━━━━━━━━━━━━━━━━\u001b[0m\u001b[37m\u001b[0m \u001b[1m2s\u001b[0m 12ms/step - accuracy: 0.8410 - loss: 0.4367 - val_accuracy: 0.8327 - val_loss: 0.4514\n",
            "Epoch 8/50\n",
            "\u001b[1m179/179\u001b[0m \u001b[32m━━━━━━━━━━━━━━━━━━━━\u001b[0m\u001b[37m\u001b[0m \u001b[1m2s\u001b[0m 12ms/step - accuracy: 0.8318 - loss: 0.4505 - val_accuracy: 0.8327 - val_loss: 0.4532\n",
            "Epoch 9/50\n",
            "\u001b[1m179/179\u001b[0m \u001b[32m━━━━━━━━━━━━━━━━━━━━\u001b[0m\u001b[37m\u001b[0m \u001b[1m2s\u001b[0m 12ms/step - accuracy: 0.8352 - loss: 0.4422 - val_accuracy: 0.8327 - val_loss: 0.4552\n",
            "Epoch 10/50\n",
            "\u001b[1m179/179\u001b[0m \u001b[32m━━━━━━━━━━━━━━━━━━━━\u001b[0m\u001b[37m\u001b[0m \u001b[1m2s\u001b[0m 12ms/step - accuracy: 0.8378 - loss: 0.4370 - val_accuracy: 0.8327 - val_loss: 0.4184\n",
            "Epoch 11/50\n",
            "\u001b[1m179/179\u001b[0m \u001b[32m━━━━━━━━━━━━━━━━━━━━\u001b[0m\u001b[37m\u001b[0m \u001b[1m3s\u001b[0m 19ms/step - accuracy: 0.8698 - loss: 0.3202 - val_accuracy: 0.8845 - val_loss: 0.2895\n",
            "Epoch 12/50\n",
            "\u001b[1m179/179\u001b[0m \u001b[32m━━━━━━━━━━━━━━━━━━━━\u001b[0m\u001b[37m\u001b[0m \u001b[1m2s\u001b[0m 12ms/step - accuracy: 0.9381 - loss: 0.1756 - val_accuracy: 0.8992 - val_loss: 0.2653\n",
            "Epoch 13/50\n",
            "\u001b[1m179/179\u001b[0m \u001b[32m━━━━━━━━━━━━━━━━━━━━\u001b[0m\u001b[37m\u001b[0m \u001b[1m3s\u001b[0m 12ms/step - accuracy: 0.9578 - loss: 0.1191 - val_accuracy: 0.8981 - val_loss: 0.2913\n",
            "Epoch 14/50\n",
            "\u001b[1m179/179\u001b[0m \u001b[32m━━━━━━━━━━━━━━━━━━━━\u001b[0m\u001b[37m\u001b[0m \u001b[1m2s\u001b[0m 12ms/step - accuracy: 0.9760 - loss: 0.0794 - val_accuracy: 0.8974 - val_loss: 0.3560\n",
            "Epoch 15/50\n",
            "\u001b[1m179/179\u001b[0m \u001b[32m━━━━━━━━━━━━━━━━━━━━\u001b[0m\u001b[37m\u001b[0m \u001b[1m4s\u001b[0m 19ms/step - accuracy: 0.9841 - loss: 0.0559 - val_accuracy: 0.8943 - val_loss: 0.3806\n",
            "Epoch 16/50\n",
            "\u001b[1m179/179\u001b[0m \u001b[32m━━━━━━━━━━━━━━━━━━━━\u001b[0m\u001b[37m\u001b[0m \u001b[1m5s\u001b[0m 25ms/step - accuracy: 0.9851 - loss: 0.0562 - val_accuracy: 0.8848 - val_loss: 0.4534\n",
            "Epoch 17/50\n",
            "\u001b[1m179/179\u001b[0m \u001b[32m━━━━━━━━━━━━━━━━━━━━\u001b[0m\u001b[37m\u001b[0m \u001b[1m4s\u001b[0m 20ms/step - accuracy: 0.9875 - loss: 0.0458 - val_accuracy: 0.8918 - val_loss: 0.4586\n",
            "Epoch 18/50\n",
            "\u001b[1m179/179\u001b[0m \u001b[32m━━━━━━━━━━━━━━━━━━━━\u001b[0m\u001b[37m\u001b[0m \u001b[1m6s\u001b[0m 22ms/step - accuracy: 0.9878 - loss: 0.0418 - val_accuracy: 0.8876 - val_loss: 0.4960\n",
            "Epoch 19/50\n",
            "\u001b[1m179/179\u001b[0m \u001b[32m━━━━━━━━━━━━━━━━━━━━\u001b[0m\u001b[37m\u001b[0m \u001b[1m5s\u001b[0m 28ms/step - accuracy: 0.9892 - loss: 0.0415 - val_accuracy: 0.8915 - val_loss: 0.5020\n",
            "Epoch 20/50\n",
            "\u001b[1m179/179\u001b[0m \u001b[32m━━━━━━━━━━━━━━━━━━━━\u001b[0m\u001b[37m\u001b[0m \u001b[1m4s\u001b[0m 21ms/step - accuracy: 0.9878 - loss: 0.0407 - val_accuracy: 0.8845 - val_loss: 0.5050\n",
            "Epoch 21/50\n",
            "\u001b[1m179/179\u001b[0m \u001b[32m━━━━━━━━━━━━━━━━━━━━\u001b[0m\u001b[37m\u001b[0m \u001b[1m4s\u001b[0m 21ms/step - accuracy: 0.9907 - loss: 0.0331 - val_accuracy: 0.8911 - val_loss: 0.5217\n",
            "Epoch 22/50\n",
            "\u001b[1m179/179\u001b[0m \u001b[32m━━━━━━━━━━━━━━━━━━━━\u001b[0m\u001b[37m\u001b[0m \u001b[1m5s\u001b[0m 25ms/step - accuracy: 0.9908 - loss: 0.0289 - val_accuracy: 0.8876 - val_loss: 0.5061\n",
            "Epoch 23/50\n",
            "\u001b[1m179/179\u001b[0m \u001b[32m━━━━━━━━━━━━━━━━━━━━\u001b[0m\u001b[37m\u001b[0m \u001b[1m4s\u001b[0m 17ms/step - accuracy: 0.9913 - loss: 0.0281 - val_accuracy: 0.8894 - val_loss: 0.5157\n",
            "Epoch 24/50\n",
            "\u001b[1m179/179\u001b[0m \u001b[32m━━━━━━━━━━━━━━━━━━━━\u001b[0m\u001b[37m\u001b[0m \u001b[1m4s\u001b[0m 21ms/step - accuracy: 0.9917 - loss: 0.0290 - val_accuracy: 0.8897 - val_loss: 0.5487\n",
            "Epoch 25/50\n",
            "\u001b[1m179/179\u001b[0m \u001b[32m━━━━━━━━━━━━━━━━━━━━\u001b[0m\u001b[37m\u001b[0m \u001b[1m5s\u001b[0m 23ms/step - accuracy: 0.9927 - loss: 0.0261 - val_accuracy: 0.8901 - val_loss: 0.5578\n",
            "Epoch 26/50\n",
            "\u001b[1m179/179\u001b[0m \u001b[32m━━━━━━━━━━━━━━━━━━━━\u001b[0m\u001b[37m\u001b[0m \u001b[1m3s\u001b[0m 15ms/step - accuracy: 0.9934 - loss: 0.0258 - val_accuracy: 0.8876 - val_loss: 0.6324\n",
            "Epoch 27/50\n",
            "\u001b[1m179/179\u001b[0m \u001b[32m━━━━━━━━━━━━━━━━━━━━\u001b[0m\u001b[37m\u001b[0m \u001b[1m2s\u001b[0m 12ms/step - accuracy: 0.9916 - loss: 0.0262 - val_accuracy: 0.8901 - val_loss: 0.6638\n",
            "Epoch 28/50\n",
            "\u001b[1m179/179\u001b[0m \u001b[32m━━━━━━━━━━━━━━━━━━━━\u001b[0m\u001b[37m\u001b[0m \u001b[1m3s\u001b[0m 12ms/step - accuracy: 0.9922 - loss: 0.0249 - val_accuracy: 0.8880 - val_loss: 0.6595\n",
            "Epoch 29/50\n",
            "\u001b[1m179/179\u001b[0m \u001b[32m━━━━━━━━━━━━━━━━━━━━\u001b[0m\u001b[37m\u001b[0m \u001b[1m2s\u001b[0m 12ms/step - accuracy: 0.9927 - loss: 0.0204 - val_accuracy: 0.8866 - val_loss: 0.5991\n",
            "Epoch 30/50\n",
            "\u001b[1m179/179\u001b[0m \u001b[32m━━━━━━━━━━━━━━━━━━━━\u001b[0m\u001b[37m\u001b[0m \u001b[1m3s\u001b[0m 17ms/step - accuracy: 0.9924 - loss: 0.0227 - val_accuracy: 0.8862 - val_loss: 0.7032\n",
            "Epoch 31/50\n",
            "\u001b[1m179/179\u001b[0m \u001b[32m━━━━━━━━━━━━━━━━━━━━\u001b[0m\u001b[37m\u001b[0m \u001b[1m4s\u001b[0m 13ms/step - accuracy: 0.9932 - loss: 0.0158 - val_accuracy: 0.8831 - val_loss: 0.6963\n",
            "Epoch 32/50\n",
            "\u001b[1m179/179\u001b[0m \u001b[32m━━━━━━━━━━━━━━━━━━━━\u001b[0m\u001b[37m\u001b[0m \u001b[1m2s\u001b[0m 12ms/step - accuracy: 0.9941 - loss: 0.0120 - val_accuracy: 0.8838 - val_loss: 0.6647\n",
            "Epoch 33/50\n",
            "\u001b[1m179/179\u001b[0m \u001b[32m━━━━━━━━━━━━━━━━━━━━\u001b[0m\u001b[37m\u001b[0m \u001b[1m2s\u001b[0m 12ms/step - accuracy: 0.9928 - loss: 0.0139 - val_accuracy: 0.8813 - val_loss: 0.7467\n",
            "Epoch 34/50\n",
            "\u001b[1m179/179\u001b[0m \u001b[32m━━━━━━━━━━━━━━━━━━━━\u001b[0m\u001b[37m\u001b[0m \u001b[1m4s\u001b[0m 18ms/step - accuracy: 0.9952 - loss: 0.0126 - val_accuracy: 0.8757 - val_loss: 0.8052\n",
            "Epoch 35/50\n",
            "\u001b[1m179/179\u001b[0m \u001b[32m━━━━━━━━━━━━━━━━━━━━\u001b[0m\u001b[37m\u001b[0m \u001b[1m4s\u001b[0m 13ms/step - accuracy: 0.9946 - loss: 0.0106 - val_accuracy: 0.8803 - val_loss: 0.8600\n",
            "Epoch 36/50\n",
            "\u001b[1m179/179\u001b[0m \u001b[32m━━━━━━━━━━━━━━━━━━━━\u001b[0m\u001b[37m\u001b[0m \u001b[1m2s\u001b[0m 13ms/step - accuracy: 0.9925 - loss: 0.0169 - val_accuracy: 0.8838 - val_loss: 0.7396\n",
            "Epoch 37/50\n",
            "\u001b[1m179/179\u001b[0m \u001b[32m━━━━━━━━━━━━━━━━━━━━\u001b[0m\u001b[37m\u001b[0m \u001b[1m3s\u001b[0m 14ms/step - accuracy: 0.9946 - loss: 0.0143 - val_accuracy: 0.8831 - val_loss: 0.7492\n",
            "Epoch 38/50\n",
            "\u001b[1m179/179\u001b[0m \u001b[32m━━━━━━━━━━━━━━━━━━━━\u001b[0m\u001b[37m\u001b[0m \u001b[1m3s\u001b[0m 15ms/step - accuracy: 0.9959 - loss: 0.0084 - val_accuracy: 0.8827 - val_loss: 0.8012\n",
            "Epoch 39/50\n",
            "\u001b[1m179/179\u001b[0m \u001b[32m━━━━━━━━━━━━━━━━━━━━\u001b[0m\u001b[37m\u001b[0m \u001b[1m3s\u001b[0m 15ms/step - accuracy: 0.9951 - loss: 0.0125 - val_accuracy: 0.8845 - val_loss: 0.8742\n",
            "Epoch 40/50\n",
            "\u001b[1m179/179\u001b[0m \u001b[32m━━━━━━━━━━━━━━━━━━━━\u001b[0m\u001b[37m\u001b[0m \u001b[1m2s\u001b[0m 12ms/step - accuracy: 0.9960 - loss: 0.0110 - val_accuracy: 0.8855 - val_loss: 0.8128\n",
            "Epoch 41/50\n",
            "\u001b[1m179/179\u001b[0m \u001b[32m━━━━━━━━━━━━━━━━━━━━\u001b[0m\u001b[37m\u001b[0m \u001b[1m3s\u001b[0m 12ms/step - accuracy: 0.9958 - loss: 0.0078 - val_accuracy: 0.8820 - val_loss: 0.7238\n",
            "Epoch 42/50\n",
            "\u001b[1m179/179\u001b[0m \u001b[32m━━━━━━━━━━━━━━━━━━━━\u001b[0m\u001b[37m\u001b[0m \u001b[1m3s\u001b[0m 12ms/step - accuracy: 0.9948 - loss: 0.0102 - val_accuracy: 0.8834 - val_loss: 0.8447\n",
            "Epoch 43/50\n",
            "\u001b[1m179/179\u001b[0m \u001b[32m━━━━━━━━━━━━━━━━━━━━\u001b[0m\u001b[37m\u001b[0m \u001b[1m3s\u001b[0m 16ms/step - accuracy: 0.9957 - loss: 0.0075 - val_accuracy: 0.8813 - val_loss: 0.9356\n",
            "Epoch 44/50\n",
            "\u001b[1m179/179\u001b[0m \u001b[32m━━━━━━━━━━━━━━━━━━━━\u001b[0m\u001b[37m\u001b[0m \u001b[1m3s\u001b[0m 15ms/step - accuracy: 0.9971 - loss: 0.0064 - val_accuracy: 0.8827 - val_loss: 0.9179\n",
            "Epoch 45/50\n",
            "\u001b[1m179/179\u001b[0m \u001b[32m━━━━━━━━━━━━━━━━━━━━\u001b[0m\u001b[37m\u001b[0m \u001b[1m5s\u001b[0m 13ms/step - accuracy: 0.9972 - loss: 0.0056 - val_accuracy: 0.8841 - val_loss: 0.9710\n",
            "Epoch 46/50\n",
            "\u001b[1m179/179\u001b[0m \u001b[32m━━━━━━━━━━━━━━━━━━━━\u001b[0m\u001b[37m\u001b[0m \u001b[1m2s\u001b[0m 12ms/step - accuracy: 0.9968 - loss: 0.0065 - val_accuracy: 0.8824 - val_loss: 1.0100\n",
            "Epoch 47/50\n",
            "\u001b[1m179/179\u001b[0m \u001b[32m━━━━━━━━━━━━━━━━━━━━\u001b[0m\u001b[37m\u001b[0m \u001b[1m3s\u001b[0m 15ms/step - accuracy: 0.9970 - loss: 0.0061 - val_accuracy: 0.8820 - val_loss: 1.0225\n",
            "Epoch 48/50\n",
            "\u001b[1m179/179\u001b[0m \u001b[32m━━━━━━━━━━━━━━━━━━━━\u001b[0m\u001b[37m\u001b[0m \u001b[1m3s\u001b[0m 16ms/step - accuracy: 0.9962 - loss: 0.0060 - val_accuracy: 0.8747 - val_loss: 0.9854\n",
            "Epoch 49/50\n",
            "\u001b[1m179/179\u001b[0m \u001b[32m━━━━━━━━━━━━━━━━━━━━\u001b[0m\u001b[37m\u001b[0m \u001b[1m5s\u001b[0m 13ms/step - accuracy: 0.9951 - loss: 0.0118 - val_accuracy: 0.8845 - val_loss: 0.9473\n",
            "Epoch 50/50\n",
            "\u001b[1m179/179\u001b[0m \u001b[32m━━━━━━━━━━━━━━━━━━━━\u001b[0m\u001b[37m\u001b[0m \u001b[1m2s\u001b[0m 12ms/step - accuracy: 0.9974 - loss: 0.0053 - val_accuracy: 0.8841 - val_loss: 0.9930\n"
          ]
        }
      ]
    },
    {
      "cell_type": "code",
      "source": [
        "import matplotlib.pyplot as plt"
      ],
      "metadata": {
        "id": "vm906JiO5LQR"
      },
      "execution_count": 38,
      "outputs": []
    },
    {
      "cell_type": "code",
      "source": [
        "plt.figure(figsize=(6,6))\n",
        "plt.plot(history.history['loss'], label='Train Loss')\n",
        "plt.plot(history.history['val_loss'], label='Val Loss')\n",
        "plt.title('Model Loss')\n",
        "plt.xlabel('Epoch')\n",
        "plt.ylabel('Loss')\n",
        "plt.legend()"
      ],
      "metadata": {
        "colab": {
          "base_uri": "https://localhost:8080/",
          "height": 581
        },
        "id": "zvd-XxWV5JR_",
        "outputId": "b9b73b7b-85f9-41a2-c268-df5b2f4946f4"
      },
      "execution_count": 39,
      "outputs": [
        {
          "output_type": "execute_result",
          "data": {
            "text/plain": [
              "<matplotlib.legend.Legend at 0x7bc3939770d0>"
            ]
          },
          "metadata": {},
          "execution_count": 39
        },
        {
          "output_type": "display_data",
          "data": {
            "text/plain": [
              "<Figure size 600x600 with 1 Axes>"
            ],
            "image/png": "[encoded data removed]"
          },
          "metadata": {}
        }
      ]
    },
    {
      "cell_type": "code",
      "source": [
        "y_pred_ann = model.predict(X_test)\n",
        "y_pred_ann = np.where(y_pred_ann > 0.5, 1, 0)"
      ],
      "metadata": {
        "colab": {
          "base_uri": "https://localhost:8080/"
        },
        "id": "9AAXRP3O5Ruq",
        "outputId": "cd7d704c-636e-48e3-a218-745a93efd7f4"
      },
      "execution_count": 40,
      "outputs": [
        {
          "output_type": "stream",
          "name": "stdout",
          "text": [
            "\u001b[1m90/90\u001b[0m \u001b[32m━━━━━━━━━━━━━━━━━━━━\u001b[0m\u001b[37m\u001b[0m \u001b[1m1s\u001b[0m 7ms/step\n"
          ]
        }
      ]
    },
    {
      "cell_type": "code",
      "source": [
        "print(classification_report(y_test, y_pred_ann))"
      ],
      "metadata": {
        "colab": {
          "base_uri": "https://localhost:8080/"
        },
        "id": "axN8C2JC5YEU",
        "outputId": "eb56191f-2f70-4620-a650-9798bfc8fce9"
      },
      "execution_count": 41,
      "outputs": [
        {
          "output_type": "stream",
          "name": "stdout",
          "text": [
            "              precision    recall  f1-score   support\n",
            "\n",
            "           0       0.67      0.62      0.64       478\n",
            "           1       0.92      0.94      0.93      2379\n",
            "\n",
            "    accuracy                           0.88      2857\n",
            "   macro avg       0.79      0.78      0.79      2857\n",
            "weighted avg       0.88      0.88      0.88      2857\n",
            "\n"
          ]
        }
      ]
    },
    {
      "cell_type": "markdown",
      "source": [
        "**Bi-directional LSTM**"
      ],
      "metadata": {
        "id": "iOgp5DkY76lc"
      }
    },
    {
      "cell_type": "code",
      "source": [
        "model = Sequential([Embedding(input_dim=max_words, output_dim=100, input_length=max_len),\n",
        "                    Bidirectional(LSTM(units=128, return_sequences=False)),\n",
        "                    Dense(1, activation='sigmoid')])\n",
        "# Compile the model\n",
        "model.compile(loss='binary_crossentropy', optimizer='adam', metrics=['accuracy'])\n",
        "model.build((None, max_len))\n",
        "model.summary()"
      ],
      "metadata": {
        "colab": {
          "base_uri": "https://localhost:8080/",
          "height": 280
        },
        "id": "pnbgMWJc5qML",
        "outputId": "e3a0a4f8-4672-4b61-cff9-f8a6b6c74b68"
      },
      "execution_count": 59,
      "outputs": [
        {
          "output_type": "stream",
          "name": "stderr",
          "text": [
            "/usr/local/lib/python3.11/dist-packages/keras/src/layers/core/embedding.py:90: UserWarning: Argument `input_length` is deprecated. Just remove it.\n",
            "  warnings.warn(\n"
          ]
        },
        {
          "output_type": "display_data",
          "data": {
            "text/plain": [
              "\u001b[1mModel: \"sequential_7\"\u001b[0m\n"
            ],
            "text/html": [
              "<pre style=\"white-space:pre;overflow-x:auto;line-height:normal;font-family:Menlo,'DejaVu Sans Mono',consolas,'Courier New',monospace\"><span style=\"font-weight: bold\">Model: \"sequential_7\"</span>\n",
              "</pre>\n"
            ]
          },
          "metadata": {}
        },
        {
          "output_type": "display_data",
          "data": {
            "text/plain": [
              "┏━━━━━━━━━━━━━━━━━━━━━━━━━━━━━━━━━━━━━━┳━━━━━━━━━━━━━━━━━━━━━━━━━━━━━┳━━━━━━━━━━━━━━━━━┓\n",
              "┃\u001b[1m \u001b[0m\u001b[1mLayer (type)                        \u001b[0m\u001b[1m \u001b[0m┃\u001b[1m \u001b[0m\u001b[1mOutput Shape               \u001b[0m\u001b[1m \u001b[0m┃\u001b[1m \u001b[0m\u001b[1m        Param #\u001b[0m\u001b[1m \u001b[0m┃\n",
              "┡━━━━━━━━━━━━━━━━━━━━━━━━━━━━━━━━━━━━━━╇━━━━━━━━━━━━━━━━━━━━━━━━━━━━━╇━━━━━━━━━━━━━━━━━┩\n",
              "│ embedding_7 (\u001b[38;5;33mEmbedding\u001b[0m)              │ (\u001b[38;5;45mNone\u001b[0m, \u001b[38;5;34m100\u001b[0m, \u001b[38;5;34m100\u001b[0m)            │         \u001b[38;5;34m500,000\u001b[0m │\n",
              "├──────────────────────────────────────┼─────────────────────────────┼─────────────────┤\n",
              "│ bidirectional_1 (\u001b[38;5;33mBidirectional\u001b[0m)      │ (\u001b[38;5;45mNone\u001b[0m, \u001b[38;5;34m256\u001b[0m)                 │         \u001b[38;5;34m234,496\u001b[0m │\n",
              "├──────────────────────────────────────┼─────────────────────────────┼─────────────────┤\n",
              "│ dense_11 (\u001b[38;5;33mDense\u001b[0m)                     │ (\u001b[38;5;45mNone\u001b[0m, \u001b[38;5;34m1\u001b[0m)                   │             \u001b[38;5;34m257\u001b[0m │\n",
              "└──────────────────────────────────────┴─────────────────────────────┴─────────────────┘\n"
            ],
            "text/html": [
              "<pre style=\"white-space:pre;overflow-x:auto;line-height:normal;font-family:Menlo,'DejaVu Sans Mono',consolas,'Courier New',monospace\">┏━━━━━━━━━━━━━━━━━━━━━━━━━━━━━━━━━━━━━━┳━━━━━━━━━━━━━━━━━━━━━━━━━━━━━┳━━━━━━━━━━━━━━━━━┓\n",
              "┃<span style=\"font-weight: bold\"> Layer (type)                         </span>┃<span style=\"font-weight: bold\"> Output Shape                </span>┃<span style=\"font-weight: bold\">         Param # </span>┃\n",
              "┡━━━━━━━━━━━━━━━━━━━━━━━━━━━━━━━━━━━━━━╇━━━━━━━━━━━━━━━━━━━━━━━━━━━━━╇━━━━━━━━━━━━━━━━━┩\n",
              "│ embedding_7 (<span style=\"color: #0087ff; text-decoration-color: #0087ff\">Embedding</span>)              │ (<span style=\"color: #00d7ff; text-decoration-color: #00d7ff\">None</span>, <span style=\"color: #00af00; text-decoration-color: #00af00\">100</span>, <span style=\"color: #00af00; text-decoration-color: #00af00\">100</span>)            │         <span style=\"color: #00af00; text-decoration-color: #00af00\">500,000</span> │\n",
              "├──────────────────────────────────────┼─────────────────────────────┼─────────────────┤\n",
              "│ bidirectional_1 (<span style=\"color: #0087ff; text-decoration-color: #0087ff\">Bidirectional</span>)      │ (<span style=\"color: #00d7ff; text-decoration-color: #00d7ff\">None</span>, <span style=\"color: #00af00; text-decoration-color: #00af00\">256</span>)                 │         <span style=\"color: #00af00; text-decoration-color: #00af00\">234,496</span> │\n",
              "├──────────────────────────────────────┼─────────────────────────────┼─────────────────┤\n",
              "│ dense_11 (<span style=\"color: #0087ff; text-decoration-color: #0087ff\">Dense</span>)                     │ (<span style=\"color: #00d7ff; text-decoration-color: #00d7ff\">None</span>, <span style=\"color: #00af00; text-decoration-color: #00af00\">1</span>)                   │             <span style=\"color: #00af00; text-decoration-color: #00af00\">257</span> │\n",
              "└──────────────────────────────────────┴─────────────────────────────┴─────────────────┘\n",
              "</pre>\n"
            ]
          },
          "metadata": {}
        },
        {
          "output_type": "display_data",
          "data": {
            "text/plain": [
              "\u001b[1m Total params: \u001b[0m\u001b[38;5;34m734,753\u001b[0m (2.80 MB)\n"
            ],
            "text/html": [
              "<pre style=\"white-space:pre;overflow-x:auto;line-height:normal;font-family:Menlo,'DejaVu Sans Mono',consolas,'Courier New',monospace\"><span style=\"font-weight: bold\"> Total params: </span><span style=\"color: #00af00; text-decoration-color: #00af00\">734,753</span> (2.80 MB)\n",
              "</pre>\n"
            ]
          },
          "metadata": {}
        },
        {
          "output_type": "display_data",
          "data": {
            "text/plain": [
              "\u001b[1m Trainable params: \u001b[0m\u001b[38;5;34m734,753\u001b[0m (2.80 MB)\n"
            ],
            "text/html": [
              "<pre style=\"white-space:pre;overflow-x:auto;line-height:normal;font-family:Menlo,'DejaVu Sans Mono',consolas,'Courier New',monospace\"><span style=\"font-weight: bold\"> Trainable params: </span><span style=\"color: #00af00; text-decoration-color: #00af00\">734,753</span> (2.80 MB)\n",
              "</pre>\n"
            ]
          },
          "metadata": {}
        },
        {
          "output_type": "display_data",
          "data": {
            "text/plain": [
              "\u001b[1m Non-trainable params: \u001b[0m\u001b[38;5;34m0\u001b[0m (0.00 B)\n"
            ],
            "text/html": [
              "<pre style=\"white-space:pre;overflow-x:auto;line-height:normal;font-family:Menlo,'DejaVu Sans Mono',consolas,'Courier New',monospace\"><span style=\"font-weight: bold\"> Non-trainable params: </span><span style=\"color: #00af00; text-decoration-color: #00af00\">0</span> (0.00 B)\n",
              "</pre>\n"
            ]
          },
          "metadata": {}
        }
      ]
    },
    {
      "cell_type": "code",
      "source": [
        "history = model.fit(X_train, y_train, validation_data=(X_test, y_test), epochs=50, batch_size=64)"
      ],
      "metadata": {
        "colab": {
          "base_uri": "https://localhost:8080/"
        },
        "id": "QWW9a1ND5wDO",
        "outputId": "4b6f9918-9325-40a9-aef3-cc1260e04ea0"
      },
      "execution_count": 60,
      "outputs": [
        {
          "output_type": "stream",
          "name": "stdout",
          "text": [
            "Epoch 1/50\n",
            "\u001b[1m179/179\u001b[0m \u001b[32m━━━━━━━━━━━━━━━━━━━━\u001b[0m\u001b[37m\u001b[0m \u001b[1m6s\u001b[0m 21ms/step - accuracy: 0.8442 - loss: 0.4303 - val_accuracy: 0.8855 - val_loss: 0.2978\n",
            "Epoch 2/50\n",
            "\u001b[1m179/179\u001b[0m \u001b[32m━━━━━━━━━━━━━━━━━━━━\u001b[0m\u001b[37m\u001b[0m \u001b[1m4s\u001b[0m 16ms/step - accuracy: 0.9181 - loss: 0.2076 - val_accuracy: 0.9020 - val_loss: 0.2469\n",
            "Epoch 3/50\n",
            "\u001b[1m179/179\u001b[0m \u001b[32m━━━━━━━━━━━━━━━━━━━━\u001b[0m\u001b[37m\u001b[0m \u001b[1m5s\u001b[0m 16ms/step - accuracy: 0.9536 - loss: 0.1244 - val_accuracy: 0.8992 - val_loss: 0.2665\n",
            "Epoch 4/50\n",
            "\u001b[1m179/179\u001b[0m \u001b[32m━━━━━━━━━━━━━━━━━━━━\u001b[0m\u001b[37m\u001b[0m \u001b[1m6s\u001b[0m 19ms/step - accuracy: 0.9684 - loss: 0.0856 - val_accuracy: 0.8939 - val_loss: 0.3066\n",
            "Epoch 5/50\n",
            "\u001b[1m179/179\u001b[0m \u001b[32m━━━━━━━━━━━━━━━━━━━━\u001b[0m\u001b[37m\u001b[0m \u001b[1m3s\u001b[0m 15ms/step - accuracy: 0.9745 - loss: 0.0744 - val_accuracy: 0.8939 - val_loss: 0.4268\n",
            "Epoch 6/50\n",
            "\u001b[1m179/179\u001b[0m \u001b[32m━━━━━━━━━━━━━━━━━━━━\u001b[0m\u001b[37m\u001b[0m \u001b[1m3s\u001b[0m 15ms/step - accuracy: 0.9827 - loss: 0.0491 - val_accuracy: 0.8880 - val_loss: 0.4316\n",
            "Epoch 7/50\n",
            "\u001b[1m179/179\u001b[0m \u001b[32m━━━━━━━━━━━━━━━━━━━━\u001b[0m\u001b[37m\u001b[0m \u001b[1m5s\u001b[0m 16ms/step - accuracy: 0.9858 - loss: 0.0402 - val_accuracy: 0.8866 - val_loss: 0.4868\n",
            "Epoch 8/50\n",
            "\u001b[1m179/179\u001b[0m \u001b[32m━━━━━━━━━━━━━━━━━━━━\u001b[0m\u001b[37m\u001b[0m \u001b[1m3s\u001b[0m 18ms/step - accuracy: 0.9894 - loss: 0.0312 - val_accuracy: 0.8894 - val_loss: 0.4767\n",
            "Epoch 9/50\n",
            "\u001b[1m179/179\u001b[0m \u001b[32m━━━━━━━━━━━━━━━━━━━━\u001b[0m\u001b[37m\u001b[0m \u001b[1m5s\u001b[0m 18ms/step - accuracy: 0.9889 - loss: 0.0333 - val_accuracy: 0.8873 - val_loss: 0.4716\n",
            "Epoch 10/50\n",
            "\u001b[1m179/179\u001b[0m \u001b[32m━━━━━━━━━━━━━━━━━━━━\u001b[0m\u001b[37m\u001b[0m \u001b[1m3s\u001b[0m 16ms/step - accuracy: 0.9875 - loss: 0.0383 - val_accuracy: 0.8852 - val_loss: 0.5654\n",
            "Epoch 11/50\n",
            "\u001b[1m179/179\u001b[0m \u001b[32m━━━━━━━━━━━━━━━━━━━━\u001b[0m\u001b[37m\u001b[0m \u001b[1m5s\u001b[0m 17ms/step - accuracy: 0.9943 - loss: 0.0165 - val_accuracy: 0.8873 - val_loss: 0.5834\n",
            "Epoch 12/50\n",
            "\u001b[1m179/179\u001b[0m \u001b[32m━━━━━━━━━━━━━━━━━━━━\u001b[0m\u001b[37m\u001b[0m \u001b[1m3s\u001b[0m 15ms/step - accuracy: 0.9940 - loss: 0.0167 - val_accuracy: 0.8841 - val_loss: 0.6515\n",
            "Epoch 13/50\n",
            "\u001b[1m179/179\u001b[0m \u001b[32m━━━━━━━━━━━━━━━━━━━━\u001b[0m\u001b[37m\u001b[0m \u001b[1m3s\u001b[0m 15ms/step - accuracy: 0.9960 - loss: 0.0111 - val_accuracy: 0.8827 - val_loss: 0.7218\n",
            "Epoch 14/50\n",
            "\u001b[1m179/179\u001b[0m \u001b[32m━━━━━━━━━━━━━━━━━━━━\u001b[0m\u001b[37m\u001b[0m \u001b[1m3s\u001b[0m 15ms/step - accuracy: 0.9956 - loss: 0.0107 - val_accuracy: 0.8848 - val_loss: 0.8283\n",
            "Epoch 15/50\n",
            "\u001b[1m179/179\u001b[0m \u001b[32m━━━━━━━━━━━━━━━━━━━━\u001b[0m\u001b[37m\u001b[0m \u001b[1m5s\u001b[0m 17ms/step - accuracy: 0.9961 - loss: 0.0092 - val_accuracy: 0.8831 - val_loss: 0.8775\n",
            "Epoch 16/50\n",
            "\u001b[1m179/179\u001b[0m \u001b[32m━━━━━━━━━━━━━━━━━━━━\u001b[0m\u001b[37m\u001b[0m \u001b[1m5s\u001b[0m 16ms/step - accuracy: 0.9961 - loss: 0.0091 - val_accuracy: 0.8841 - val_loss: 0.9573\n",
            "Epoch 17/50\n",
            "\u001b[1m179/179\u001b[0m \u001b[32m━━━━━━━━━━━━━━━━━━━━\u001b[0m\u001b[37m\u001b[0m \u001b[1m3s\u001b[0m 15ms/step - accuracy: 0.9979 - loss: 0.0058 - val_accuracy: 0.8782 - val_loss: 0.9895\n",
            "Epoch 18/50\n",
            "\u001b[1m179/179\u001b[0m \u001b[32m━━━━━━━━━━━━━━━━━━━━\u001b[0m\u001b[37m\u001b[0m \u001b[1m5s\u001b[0m 15ms/step - accuracy: 0.9967 - loss: 0.0071 - val_accuracy: 0.8831 - val_loss: 0.8246\n",
            "Epoch 19/50\n",
            "\u001b[1m179/179\u001b[0m \u001b[32m━━━━━━━━━━━━━━━━━━━━\u001b[0m\u001b[37m\u001b[0m \u001b[1m3s\u001b[0m 15ms/step - accuracy: 0.9909 - loss: 0.0270 - val_accuracy: 0.8792 - val_loss: 0.5883\n",
            "Epoch 20/50\n",
            "\u001b[1m179/179\u001b[0m \u001b[32m━━━━━━━━━━━━━━━━━━━━\u001b[0m\u001b[37m\u001b[0m \u001b[1m5s\u001b[0m 16ms/step - accuracy: 0.9939 - loss: 0.0179 - val_accuracy: 0.8887 - val_loss: 0.6688\n",
            "Epoch 21/50\n",
            "\u001b[1m179/179\u001b[0m \u001b[32m━━━━━━━━━━━━━━━━━━━━\u001b[0m\u001b[37m\u001b[0m \u001b[1m5s\u001b[0m 15ms/step - accuracy: 0.9947 - loss: 0.0143 - val_accuracy: 0.8866 - val_loss: 0.6942\n",
            "Epoch 22/50\n",
            "\u001b[1m179/179\u001b[0m \u001b[32m━━━━━━━━━━━━━━━━━━━━\u001b[0m\u001b[37m\u001b[0m \u001b[1m5s\u001b[0m 15ms/step - accuracy: 0.9964 - loss: 0.0085 - val_accuracy: 0.8771 - val_loss: 0.7742\n",
            "Epoch 23/50\n",
            "\u001b[1m179/179\u001b[0m \u001b[32m━━━━━━━━━━━━━━━━━━━━\u001b[0m\u001b[37m\u001b[0m \u001b[1m5s\u001b[0m 17ms/step - accuracy: 0.9965 - loss: 0.0085 - val_accuracy: 0.8810 - val_loss: 0.7780\n",
            "Epoch 24/50\n",
            "\u001b[1m179/179\u001b[0m \u001b[32m━━━━━━━━━━━━━━━━━━━━\u001b[0m\u001b[37m\u001b[0m \u001b[1m5s\u001b[0m 15ms/step - accuracy: 0.9956 - loss: 0.0081 - val_accuracy: 0.8806 - val_loss: 0.7719\n",
            "Epoch 25/50\n",
            "\u001b[1m179/179\u001b[0m \u001b[32m━━━━━━━━━━━━━━━━━━━━\u001b[0m\u001b[37m\u001b[0m \u001b[1m6s\u001b[0m 19ms/step - accuracy: 0.9969 - loss: 0.0074 - val_accuracy: 0.8645 - val_loss: 0.8045\n",
            "Epoch 26/50\n",
            "\u001b[1m179/179\u001b[0m \u001b[32m━━━━━━━━━━━━━━━━━━━━\u001b[0m\u001b[37m\u001b[0m \u001b[1m4s\u001b[0m 15ms/step - accuracy: 0.9942 - loss: 0.0169 - val_accuracy: 0.8834 - val_loss: 0.7212\n",
            "Epoch 27/50\n",
            "\u001b[1m179/179\u001b[0m \u001b[32m━━━━━━━━━━━━━━━━━━━━\u001b[0m\u001b[37m\u001b[0m \u001b[1m3s\u001b[0m 15ms/step - accuracy: 0.9957 - loss: 0.0100 - val_accuracy: 0.8806 - val_loss: 0.7905\n",
            "Epoch 28/50\n",
            "\u001b[1m179/179\u001b[0m \u001b[32m━━━━━━━━━━━━━━━━━━━━\u001b[0m\u001b[37m\u001b[0m \u001b[1m3s\u001b[0m 15ms/step - accuracy: 0.9968 - loss: 0.0060 - val_accuracy: 0.8806 - val_loss: 0.8515\n",
            "Epoch 29/50\n",
            "\u001b[1m179/179\u001b[0m \u001b[32m━━━━━━━━━━━━━━━━━━━━\u001b[0m\u001b[37m\u001b[0m \u001b[1m3s\u001b[0m 19ms/step - accuracy: 0.9975 - loss: 0.0051 - val_accuracy: 0.8806 - val_loss: 0.8866\n",
            "Epoch 30/50\n",
            "\u001b[1m179/179\u001b[0m \u001b[32m━━━━━━━━━━━━━━━━━━━━\u001b[0m\u001b[37m\u001b[0m \u001b[1m4s\u001b[0m 15ms/step - accuracy: 0.9962 - loss: 0.0068 - val_accuracy: 0.8789 - val_loss: 0.9171\n",
            "Epoch 31/50\n",
            "\u001b[1m179/179\u001b[0m \u001b[32m━━━━━━━━━━━━━━━━━━━━\u001b[0m\u001b[37m\u001b[0m \u001b[1m3s\u001b[0m 15ms/step - accuracy: 0.9968 - loss: 0.0058 - val_accuracy: 0.8789 - val_loss: 0.9506\n",
            "Epoch 32/50\n",
            "\u001b[1m179/179\u001b[0m \u001b[32m━━━━━━━━━━━━━━━━━━━━\u001b[0m\u001b[37m\u001b[0m \u001b[1m6s\u001b[0m 19ms/step - accuracy: 0.9980 - loss: 0.0041 - val_accuracy: 0.8792 - val_loss: 0.9808\n",
            "Epoch 33/50\n",
            "\u001b[1m179/179\u001b[0m \u001b[32m━━━━━━━━━━━━━━━━━━━━\u001b[0m\u001b[37m\u001b[0m \u001b[1m3s\u001b[0m 15ms/step - accuracy: 0.9979 - loss: 0.0044 - val_accuracy: 0.8743 - val_loss: 1.0111\n",
            "Epoch 34/50\n",
            "\u001b[1m179/179\u001b[0m \u001b[32m━━━━━━━━━━━━━━━━━━━━\u001b[0m\u001b[37m\u001b[0m \u001b[1m3s\u001b[0m 15ms/step - accuracy: 0.9977 - loss: 0.0043 - val_accuracy: 0.8782 - val_loss: 1.0479\n",
            "Epoch 35/50\n",
            "\u001b[1m179/179\u001b[0m \u001b[32m━━━━━━━━━━━━━━━━━━━━\u001b[0m\u001b[37m\u001b[0m \u001b[1m5s\u001b[0m 16ms/step - accuracy: 0.9978 - loss: 0.0045 - val_accuracy: 0.8806 - val_loss: 1.0511\n",
            "Epoch 36/50\n",
            "\u001b[1m179/179\u001b[0m \u001b[32m━━━━━━━━━━━━━━━━━━━━\u001b[0m\u001b[37m\u001b[0m \u001b[1m3s\u001b[0m 18ms/step - accuracy: 0.9972 - loss: 0.0053 - val_accuracy: 0.8803 - val_loss: 1.0849\n",
            "Epoch 37/50\n",
            "\u001b[1m179/179\u001b[0m \u001b[32m━━━━━━━━━━━━━━━━━━━━\u001b[0m\u001b[37m\u001b[0m \u001b[1m5s\u001b[0m 15ms/step - accuracy: 0.9970 - loss: 0.0059 - val_accuracy: 0.8785 - val_loss: 1.1174\n",
            "Epoch 38/50\n",
            "\u001b[1m179/179\u001b[0m \u001b[32m━━━━━━━━━━━━━━━━━━━━\u001b[0m\u001b[37m\u001b[0m \u001b[1m3s\u001b[0m 14ms/step - accuracy: 0.9971 - loss: 0.0054 - val_accuracy: 0.8803 - val_loss: 1.1289\n",
            "Epoch 39/50\n",
            "\u001b[1m179/179\u001b[0m \u001b[32m━━━━━━━━━━━━━━━━━━━━\u001b[0m\u001b[37m\u001b[0m \u001b[1m6s\u001b[0m 19ms/step - accuracy: 0.9974 - loss: 0.0045 - val_accuracy: 0.8775 - val_loss: 1.1241\n",
            "Epoch 40/50\n",
            "\u001b[1m179/179\u001b[0m \u001b[32m━━━━━━━━━━━━━━━━━━━━\u001b[0m\u001b[37m\u001b[0m \u001b[1m3s\u001b[0m 14ms/step - accuracy: 0.9984 - loss: 0.0035 - val_accuracy: 0.8824 - val_loss: 1.2045\n",
            "Epoch 41/50\n",
            "\u001b[1m179/179\u001b[0m \u001b[32m━━━━━━━━━━━━━━━━━━━━\u001b[0m\u001b[37m\u001b[0m \u001b[1m5s\u001b[0m 15ms/step - accuracy: 0.9970 - loss: 0.0051 - val_accuracy: 0.8775 - val_loss: 1.1957\n",
            "Epoch 42/50\n",
            "\u001b[1m179/179\u001b[0m \u001b[32m━━━━━━━━━━━━━━━━━━━━\u001b[0m\u001b[37m\u001b[0m \u001b[1m3s\u001b[0m 16ms/step - accuracy: 0.9969 - loss: 0.0056 - val_accuracy: 0.8796 - val_loss: 1.2333\n",
            "Epoch 43/50\n",
            "\u001b[1m179/179\u001b[0m \u001b[32m━━━━━━━━━━━━━━━━━━━━\u001b[0m\u001b[37m\u001b[0m \u001b[1m5s\u001b[0m 15ms/step - accuracy: 0.9977 - loss: 0.0043 - val_accuracy: 0.8803 - val_loss: 1.2250\n",
            "Epoch 44/50\n",
            "\u001b[1m179/179\u001b[0m \u001b[32m━━━━━━━━━━━━━━━━━━━━\u001b[0m\u001b[37m\u001b[0m \u001b[1m3s\u001b[0m 14ms/step - accuracy: 0.9976 - loss: 0.0039 - val_accuracy: 0.8806 - val_loss: 1.2746\n",
            "Epoch 45/50\n",
            "\u001b[1m179/179\u001b[0m \u001b[32m━━━━━━━━━━━━━━━━━━━━\u001b[0m\u001b[37m\u001b[0m \u001b[1m6s\u001b[0m 18ms/step - accuracy: 0.9982 - loss: 0.0041 - val_accuracy: 0.8775 - val_loss: 1.3245\n",
            "Epoch 46/50\n",
            "\u001b[1m179/179\u001b[0m \u001b[32m━━━━━━━━━━━━━━━━━━━━\u001b[0m\u001b[37m\u001b[0m \u001b[1m3s\u001b[0m 16ms/step - accuracy: 0.9971 - loss: 0.0046 - val_accuracy: 0.8778 - val_loss: 1.3425\n",
            "Epoch 47/50\n",
            "\u001b[1m179/179\u001b[0m \u001b[32m━━━━━━━━━━━━━━━━━━━━\u001b[0m\u001b[37m\u001b[0m \u001b[1m5s\u001b[0m 16ms/step - accuracy: 0.9974 - loss: 0.0041 - val_accuracy: 0.8757 - val_loss: 1.3679\n",
            "Epoch 48/50\n",
            "\u001b[1m179/179\u001b[0m \u001b[32m━━━━━━━━━━━━━━━━━━━━\u001b[0m\u001b[37m\u001b[0m \u001b[1m6s\u001b[0m 18ms/step - accuracy: 0.9978 - loss: 0.0041 - val_accuracy: 0.8796 - val_loss: 1.4005\n",
            "Epoch 49/50\n",
            "\u001b[1m179/179\u001b[0m \u001b[32m━━━━━━━━━━━━━━━━━━━━\u001b[0m\u001b[37m\u001b[0m \u001b[1m5s\u001b[0m 15ms/step - accuracy: 0.9979 - loss: 0.0043 - val_accuracy: 0.8761 - val_loss: 1.4342\n",
            "Epoch 50/50\n",
            "\u001b[1m179/179\u001b[0m \u001b[32m━━━━━━━━━━━━━━━━━━━━\u001b[0m\u001b[37m\u001b[0m \u001b[1m5s\u001b[0m 16ms/step - accuracy: 0.9973 - loss: 0.0048 - val_accuracy: 0.8771 - val_loss: 1.4545\n"
          ]
        }
      ]
    },
    {
      "cell_type": "code",
      "source": [
        "plt.figure(figsize=(6,6))\n",
        "plt.plot(history.history['loss'], label='Train Loss')\n",
        "plt.plot(history.history['val_loss'], label='Val Loss')\n",
        "plt.title('Model Loss')\n",
        "plt.xlabel('Epoch')\n",
        "plt.ylabel('Loss')\n",
        "plt.legend()"
      ],
      "metadata": {
        "colab": {
          "base_uri": "https://localhost:8080/",
          "height": 581
        },
        "id": "EMhQzJyw8EaT",
        "outputId": "da58c1f3-9bf3-4ebc-858c-25fd403f2df1"
      },
      "execution_count": 61,
      "outputs": [
        {
          "output_type": "execute_result",
          "data": {
            "text/plain": [
              "<matplotlib.legend.Legend at 0x7bc3921ce390>"
            ]
          },
          "metadata": {},
          "execution_count": 61
        },
        {
          "output_type": "display_data",
          "data": {
            "text/plain": [
              "<Figure size 600x600 with 1 Axes>"
            ],
            "image/png": "[encoded data removed]"
          },
          "metadata": {}
        }
      ]
    },
    {
      "cell_type": "code",
      "source": [
        "y_pred_bi = model.predict(X_test)\n",
        "y_pred_bi = np.where(y_pred_bi > 0.5, 1, 0)"
      ],
      "metadata": {
        "colab": {
          "base_uri": "https://localhost:8080/"
        },
        "id": "KQI22IDs8QVY",
        "outputId": "40b316ea-33db-4275-8d87-622c5a0fe06e"
      },
      "execution_count": 62,
      "outputs": [
        {
          "output_type": "stream",
          "name": "stdout",
          "text": [
            "\u001b[1m90/90\u001b[0m \u001b[32m━━━━━━━━━━━━━━━━━━━━\u001b[0m\u001b[37m\u001b[0m \u001b[1m1s\u001b[0m 8ms/step\n"
          ]
        }
      ]
    },
    {
      "cell_type": "code",
      "source": [
        "print(classification_report(y_test, y_pred_bi))"
      ],
      "metadata": {
        "colab": {
          "base_uri": "https://localhost:8080/"
        },
        "id": "C9GEc1Tb8Y0i",
        "outputId": "c864fc2b-0005-4a0d-cfc5-a8d919b227c8"
      },
      "execution_count": 63,
      "outputs": [
        {
          "output_type": "stream",
          "name": "stdout",
          "text": [
            "              precision    recall  f1-score   support\n",
            "\n",
            "           0       0.64      0.60      0.62       478\n",
            "           1       0.92      0.93      0.93      2379\n",
            "\n",
            "    accuracy                           0.88      2857\n",
            "   macro avg       0.78      0.77      0.77      2857\n",
            "weighted avg       0.87      0.88      0.88      2857\n",
            "\n"
          ]
        }
      ]
    },
    {
      "cell_type": "code",
      "source": [
        "import seaborn as sns"
      ],
      "metadata": {
        "id": "5J_yl827AY6C"
      },
      "execution_count": 64,
      "outputs": []
    },
    {
      "cell_type": "code",
      "source": [
        "cm = confusion_matrix(y_test, y_pred_bi)\n",
        "plt.figure(figsize=(5, 4))\n",
        "sns.heatmap(cm, annot=True, fmt=\"d\", cmap=\"Blues\", xticklabels=[\"Negative\", \"Positive\"], yticklabels=[\"Negative\", \"Positive\"])\n",
        "plt.xlabel(\"Predicted\")\n",
        "plt.ylabel(\"Actual\")\n",
        "plt.title(\"Confusion Matrix\")\n",
        "plt.show()"
      ],
      "metadata": {
        "colab": {
          "base_uri": "https://localhost:8080/",
          "height": 410
        },
        "id": "JYgRTL-fAKB2",
        "outputId": "bd9deff3-b4c4-42b2-d35b-48776c99997d"
      },
      "execution_count": 66,
      "outputs": [
        {
          "output_type": "display_data",
          "data": {
            "text/plain": [
              "<Figure size 500x400 with 2 Axes>"
            ],
            "image/png": "[encoded data removed]"
          },
          "metadata": {}
        }
      ]
    },
    {
      "cell_type": "code",
      "source": [
        "#GRU-LSTM\n",
        "model = Sequential([Embedding(input_dim=max_words, output_dim=100, input_length=max_len),\n",
        "                    GRU(units=128, return_sequences=True),\n",
        "                    LSTM(units=64, return_sequences=False),\n",
        "                    Dropout(0.5),\n",
        "                    Dense(1, activation='sigmoid')\n",
        "])\n",
        "# Compile\n",
        "model.compile(loss='binary_crossentropy', optimizer='adam', metrics=['accuracy'])\n",
        "# Build and summary\n",
        "model.build((None, max_len))\n",
        "model.summary()"
      ],
      "metadata": {
        "colab": {
          "base_uri": "https://localhost:8080/",
          "height": 344
        },
        "id": "NQ8NI5Zv8qRy",
        "outputId": "64a354b5-fca3-4c72-d354-f55f50650bc5"
      },
      "execution_count": 52,
      "outputs": [
        {
          "output_type": "stream",
          "name": "stderr",
          "text": [
            "/usr/local/lib/python3.11/dist-packages/keras/src/layers/core/embedding.py:90: UserWarning: Argument `input_length` is deprecated. Just remove it.\n",
            "  warnings.warn(\n"
          ]
        },
        {
          "output_type": "display_data",
          "data": {
            "text/plain": [
              "\u001b[1mModel: \"sequential_6\"\u001b[0m\n"
            ],
            "text/html": [
              "<pre style=\"white-space:pre;overflow-x:auto;line-height:normal;font-family:Menlo,'DejaVu Sans Mono',consolas,'Courier New',monospace\"><span style=\"font-weight: bold\">Model: \"sequential_6\"</span>\n",
              "</pre>\n"
            ]
          },
          "metadata": {}
        },
        {
          "output_type": "display_data",
          "data": {
            "text/plain": [
              "┏━━━━━━━━━━━━━━━━━━━━━━━━━━━━━━━━━━━━━━┳━━━━━━━━━━━━━━━━━━━━━━━━━━━━━┳━━━━━━━━━━━━━━━━━┓\n",
              "┃\u001b[1m \u001b[0m\u001b[1mLayer (type)                        \u001b[0m\u001b[1m \u001b[0m┃\u001b[1m \u001b[0m\u001b[1mOutput Shape               \u001b[0m\u001b[1m \u001b[0m┃\u001b[1m \u001b[0m\u001b[1m        Param #\u001b[0m\u001b[1m \u001b[0m┃\n",
              "┡━━━━━━━━━━━━━━━━━━━━━━━━━━━━━━━━━━━━━━╇━━━━━━━━━━━━━━━━━━━━━━━━━━━━━╇━━━━━━━━━━━━━━━━━┩\n",
              "│ embedding_6 (\u001b[38;5;33mEmbedding\u001b[0m)              │ (\u001b[38;5;45mNone\u001b[0m, \u001b[38;5;34m100\u001b[0m, \u001b[38;5;34m100\u001b[0m)            │         \u001b[38;5;34m500,000\u001b[0m │\n",
              "├──────────────────────────────────────┼─────────────────────────────┼─────────────────┤\n",
              "│ gru_1 (\u001b[38;5;33mGRU\u001b[0m)                          │ (\u001b[38;5;45mNone\u001b[0m, \u001b[38;5;34m100\u001b[0m, \u001b[38;5;34m128\u001b[0m)            │          \u001b[38;5;34m88,320\u001b[0m │\n",
              "├──────────────────────────────────────┼─────────────────────────────┼─────────────────┤\n",
              "│ lstm_10 (\u001b[38;5;33mLSTM\u001b[0m)                       │ (\u001b[38;5;45mNone\u001b[0m, \u001b[38;5;34m64\u001b[0m)                  │          \u001b[38;5;34m49,408\u001b[0m │\n",
              "├──────────────────────────────────────┼─────────────────────────────┼─────────────────┤\n",
              "│ dropout_6 (\u001b[38;5;33mDropout\u001b[0m)                  │ (\u001b[38;5;45mNone\u001b[0m, \u001b[38;5;34m64\u001b[0m)                  │               \u001b[38;5;34m0\u001b[0m │\n",
              "├──────────────────────────────────────┼─────────────────────────────┼─────────────────┤\n",
              "│ dense_10 (\u001b[38;5;33mDense\u001b[0m)                     │ (\u001b[38;5;45mNone\u001b[0m, \u001b[38;5;34m1\u001b[0m)                   │              \u001b[38;5;34m65\u001b[0m │\n",
              "└──────────────────────────────────────┴─────────────────────────────┴─────────────────┘\n"
            ],
            "text/html": [
              "<pre style=\"white-space:pre;overflow-x:auto;line-height:normal;font-family:Menlo,'DejaVu Sans Mono',consolas,'Courier New',monospace\">┏━━━━━━━━━━━━━━━━━━━━━━━━━━━━━━━━━━━━━━┳━━━━━━━━━━━━━━━━━━━━━━━━━━━━━┳━━━━━━━━━━━━━━━━━┓\n",
              "┃<span style=\"font-weight: bold\"> Layer (type)                         </span>┃<span style=\"font-weight: bold\"> Output Shape                </span>┃<span style=\"font-weight: bold\">         Param # </span>┃\n",
              "┡━━━━━━━━━━━━━━━━━━━━━━━━━━━━━━━━━━━━━━╇━━━━━━━━━━━━━━━━━━━━━━━━━━━━━╇━━━━━━━━━━━━━━━━━┩\n",
              "│ embedding_6 (<span style=\"color: #0087ff; text-decoration-color: #0087ff\">Embedding</span>)              │ (<span style=\"color: #00d7ff; text-decoration-color: #00d7ff\">None</span>, <span style=\"color: #00af00; text-decoration-color: #00af00\">100</span>, <span style=\"color: #00af00; text-decoration-color: #00af00\">100</span>)            │         <span style=\"color: #00af00; text-decoration-color: #00af00\">500,000</span> │\n",
              "├──────────────────────────────────────┼─────────────────────────────┼─────────────────┤\n",
              "│ gru_1 (<span style=\"color: #0087ff; text-decoration-color: #0087ff\">GRU</span>)                          │ (<span style=\"color: #00d7ff; text-decoration-color: #00d7ff\">None</span>, <span style=\"color: #00af00; text-decoration-color: #00af00\">100</span>, <span style=\"color: #00af00; text-decoration-color: #00af00\">128</span>)            │          <span style=\"color: #00af00; text-decoration-color: #00af00\">88,320</span> │\n",
              "├──────────────────────────────────────┼─────────────────────────────┼─────────────────┤\n",
              "│ lstm_10 (<span style=\"color: #0087ff; text-decoration-color: #0087ff\">LSTM</span>)                       │ (<span style=\"color: #00d7ff; text-decoration-color: #00d7ff\">None</span>, <span style=\"color: #00af00; text-decoration-color: #00af00\">64</span>)                  │          <span style=\"color: #00af00; text-decoration-color: #00af00\">49,408</span> │\n",
              "├──────────────────────────────────────┼─────────────────────────────┼─────────────────┤\n",
              "│ dropout_6 (<span style=\"color: #0087ff; text-decoration-color: #0087ff\">Dropout</span>)                  │ (<span style=\"color: #00d7ff; text-decoration-color: #00d7ff\">None</span>, <span style=\"color: #00af00; text-decoration-color: #00af00\">64</span>)                  │               <span style=\"color: #00af00; text-decoration-color: #00af00\">0</span> │\n",
              "├──────────────────────────────────────┼─────────────────────────────┼─────────────────┤\n",
              "│ dense_10 (<span style=\"color: #0087ff; text-decoration-color: #0087ff\">Dense</span>)                     │ (<span style=\"color: #00d7ff; text-decoration-color: #00d7ff\">None</span>, <span style=\"color: #00af00; text-decoration-color: #00af00\">1</span>)                   │              <span style=\"color: #00af00; text-decoration-color: #00af00\">65</span> │\n",
              "└──────────────────────────────────────┴─────────────────────────────┴─────────────────┘\n",
              "</pre>\n"
            ]
          },
          "metadata": {}
        },
        {
          "output_type": "display_data",
          "data": {
            "text/plain": [
              "\u001b[1m Total params: \u001b[0m\u001b[38;5;34m637,793\u001b[0m (2.43 MB)\n"
            ],
            "text/html": [
              "<pre style=\"white-space:pre;overflow-x:auto;line-height:normal;font-family:Menlo,'DejaVu Sans Mono',consolas,'Courier New',monospace\"><span style=\"font-weight: bold\"> Total params: </span><span style=\"color: #00af00; text-decoration-color: #00af00\">637,793</span> (2.43 MB)\n",
              "</pre>\n"
            ]
          },
          "metadata": {}
        },
        {
          "output_type": "display_data",
          "data": {
            "text/plain": [
              "\u001b[1m Trainable params: \u001b[0m\u001b[38;5;34m637,793\u001b[0m (2.43 MB)\n"
            ],
            "text/html": [
              "<pre style=\"white-space:pre;overflow-x:auto;line-height:normal;font-family:Menlo,'DejaVu Sans Mono',consolas,'Courier New',monospace\"><span style=\"font-weight: bold\"> Trainable params: </span><span style=\"color: #00af00; text-decoration-color: #00af00\">637,793</span> (2.43 MB)\n",
              "</pre>\n"
            ]
          },
          "metadata": {}
        },
        {
          "output_type": "display_data",
          "data": {
            "text/plain": [
              "\u001b[1m Non-trainable params: \u001b[0m\u001b[38;5;34m0\u001b[0m (0.00 B)\n"
            ],
            "text/html": [
              "<pre style=\"white-space:pre;overflow-x:auto;line-height:normal;font-family:Menlo,'DejaVu Sans Mono',consolas,'Courier New',monospace\"><span style=\"font-weight: bold\"> Non-trainable params: </span><span style=\"color: #00af00; text-decoration-color: #00af00\">0</span> (0.00 B)\n",
              "</pre>\n"
            ]
          },
          "metadata": {}
        }
      ]
    },
    {
      "cell_type": "code",
      "source": [
        "history = model.fit(X_train, y_train, validation_data=(X_test, y_test), epochs=50, batch_size=64)"
      ],
      "metadata": {
        "colab": {
          "base_uri": "https://localhost:8080/"
        },
        "id": "I1ZzMbk19O3I",
        "outputId": "bf0849cb-a65c-4d07-fbf4-f35eae637141"
      },
      "execution_count": 53,
      "outputs": [
        {
          "output_type": "stream",
          "name": "stdout",
          "text": [
            "Epoch 1/50\n",
            "\u001b[1m179/179\u001b[0m \u001b[32m━━━━━━━━━━━━━━━━━━━━\u001b[0m\u001b[37m\u001b[0m \u001b[1m6s\u001b[0m 21ms/step - accuracy: 0.8197 - loss: 0.4811 - val_accuracy: 0.8327 - val_loss: 0.4543\n",
            "Epoch 2/50\n",
            "\u001b[1m179/179\u001b[0m \u001b[32m━━━━━━━━━━━━━━━━━━━━\u001b[0m\u001b[37m\u001b[0m \u001b[1m4s\u001b[0m 13ms/step - accuracy: 0.8333 - loss: 0.4566 - val_accuracy: 0.8327 - val_loss: 0.4526\n",
            "Epoch 3/50\n",
            "\u001b[1m179/179\u001b[0m \u001b[32m━━━━━━━━━━━━━━━━━━━━\u001b[0m\u001b[37m\u001b[0m \u001b[1m3s\u001b[0m 15ms/step - accuracy: 0.8391 - loss: 0.4469 - val_accuracy: 0.8327 - val_loss: 0.4515\n",
            "Epoch 4/50\n",
            "\u001b[1m179/179\u001b[0m \u001b[32m━━━━━━━━━━━━━━━━━━━━\u001b[0m\u001b[37m\u001b[0m \u001b[1m3s\u001b[0m 16ms/step - accuracy: 0.8395 - loss: 0.4453 - val_accuracy: 0.8327 - val_loss: 0.4520\n",
            "Epoch 5/50\n",
            "\u001b[1m179/179\u001b[0m \u001b[32m━━━━━━━━━━━━━━━━━━━━\u001b[0m\u001b[37m\u001b[0m \u001b[1m2s\u001b[0m 13ms/step - accuracy: 0.8359 - loss: 0.4508 - val_accuracy: 0.8309 - val_loss: 0.4548\n",
            "Epoch 6/50\n",
            "\u001b[1m179/179\u001b[0m \u001b[32m━━━━━━━━━━━━━━━━━━━━\u001b[0m\u001b[37m\u001b[0m \u001b[1m3s\u001b[0m 13ms/step - accuracy: 0.8384 - loss: 0.4480 - val_accuracy: 0.8320 - val_loss: 0.3404\n",
            "Epoch 7/50\n",
            "\u001b[1m179/179\u001b[0m \u001b[32m━━━━━━━━━━━━━━━━━━━━\u001b[0m\u001b[37m\u001b[0m \u001b[1m3s\u001b[0m 13ms/step - accuracy: 0.8822 - loss: 0.2827 - val_accuracy: 0.9016 - val_loss: 0.2559\n",
            "Epoch 8/50\n",
            "\u001b[1m179/179\u001b[0m \u001b[32m━━━━━━━━━━━━━━━━━━━━\u001b[0m\u001b[37m\u001b[0m \u001b[1m3s\u001b[0m 14ms/step - accuracy: 0.9485 - loss: 0.1436 - val_accuracy: 0.8988 - val_loss: 0.2942\n",
            "Epoch 9/50\n",
            "\u001b[1m179/179\u001b[0m \u001b[32m━━━━━━━━━━━━━━━━━━━━\u001b[0m\u001b[37m\u001b[0m \u001b[1m3s\u001b[0m 16ms/step - accuracy: 0.9736 - loss: 0.0913 - val_accuracy: 0.8981 - val_loss: 0.3447\n",
            "Epoch 10/50\n",
            "\u001b[1m179/179\u001b[0m \u001b[32m━━━━━━━━━━━━━━━━━━━━\u001b[0m\u001b[37m\u001b[0m \u001b[1m2s\u001b[0m 13ms/step - accuracy: 0.9818 - loss: 0.0570 - val_accuracy: 0.8883 - val_loss: 0.4318\n",
            "Epoch 11/50\n",
            "\u001b[1m179/179\u001b[0m \u001b[32m━━━━━━━━━━━━━━━━━━━━\u001b[0m\u001b[37m\u001b[0m \u001b[1m3s\u001b[0m 12ms/step - accuracy: 0.9878 - loss: 0.0349 - val_accuracy: 0.8929 - val_loss: 0.4538\n",
            "Epoch 12/50\n",
            "\u001b[1m179/179\u001b[0m \u001b[32m━━━━━━━━━━━━━━━━━━━━\u001b[0m\u001b[37m\u001b[0m \u001b[1m2s\u001b[0m 13ms/step - accuracy: 0.9907 - loss: 0.0310 - val_accuracy: 0.8820 - val_loss: 0.4758\n",
            "Epoch 13/50\n",
            "\u001b[1m179/179\u001b[0m \u001b[32m━━━━━━━━━━━━━━━━━━━━\u001b[0m\u001b[37m\u001b[0m \u001b[1m2s\u001b[0m 13ms/step - accuracy: 0.9921 - loss: 0.0287 - val_accuracy: 0.8876 - val_loss: 0.5634\n",
            "Epoch 14/50\n",
            "\u001b[1m179/179\u001b[0m \u001b[32m━━━━━━━━━━━━━━━━━━━━\u001b[0m\u001b[37m\u001b[0m \u001b[1m3s\u001b[0m 19ms/step - accuracy: 0.9917 - loss: 0.0254 - val_accuracy: 0.8792 - val_loss: 0.6171\n",
            "Epoch 15/50\n",
            "\u001b[1m179/179\u001b[0m \u001b[32m━━━━━━━━━━━━━━━━━━━━\u001b[0m\u001b[37m\u001b[0m \u001b[1m5s\u001b[0m 16ms/step - accuracy: 0.9930 - loss: 0.0170 - val_accuracy: 0.8782 - val_loss: 0.5486\n",
            "Epoch 16/50\n",
            "\u001b[1m179/179\u001b[0m \u001b[32m━━━━━━━━━━━━━━━━━━━━\u001b[0m\u001b[37m\u001b[0m \u001b[1m5s\u001b[0m 14ms/step - accuracy: 0.9940 - loss: 0.0175 - val_accuracy: 0.8855 - val_loss: 0.5428\n",
            "Epoch 17/50\n",
            "\u001b[1m179/179\u001b[0m \u001b[32m━━━━━━━━━━━━━━━━━━━━\u001b[0m\u001b[37m\u001b[0m \u001b[1m3s\u001b[0m 18ms/step - accuracy: 0.9918 - loss: 0.0215 - val_accuracy: 0.8708 - val_loss: 0.6056\n",
            "Epoch 18/50\n",
            "\u001b[1m179/179\u001b[0m \u001b[32m━━━━━━━━━━━━━━━━━━━━\u001b[0m\u001b[37m\u001b[0m \u001b[1m2s\u001b[0m 13ms/step - accuracy: 0.9941 - loss: 0.0169 - val_accuracy: 0.8848 - val_loss: 0.5268\n",
            "Epoch 19/50\n",
            "\u001b[1m179/179\u001b[0m \u001b[32m━━━━━━━━━━━━━━━━━━━━\u001b[0m\u001b[37m\u001b[0m \u001b[1m2s\u001b[0m 13ms/step - accuracy: 0.9941 - loss: 0.0155 - val_accuracy: 0.8813 - val_loss: 0.6472\n",
            "Epoch 20/50\n",
            "\u001b[1m179/179\u001b[0m \u001b[32m━━━━━━━━━━━━━━━━━━━━\u001b[0m\u001b[37m\u001b[0m \u001b[1m2s\u001b[0m 13ms/step - accuracy: 0.9941 - loss: 0.0141 - val_accuracy: 0.8848 - val_loss: 0.6100\n",
            "Epoch 21/50\n",
            "\u001b[1m179/179\u001b[0m \u001b[32m━━━━━━━━━━━━━━━━━━━━\u001b[0m\u001b[37m\u001b[0m \u001b[1m3s\u001b[0m 13ms/step - accuracy: 0.9944 - loss: 0.0156 - val_accuracy: 0.8831 - val_loss: 0.6597\n",
            "Epoch 22/50\n",
            "\u001b[1m179/179\u001b[0m \u001b[32m━━━━━━━━━━━━━━━━━━━━\u001b[0m\u001b[37m\u001b[0m \u001b[1m3s\u001b[0m 17ms/step - accuracy: 0.9936 - loss: 0.0160 - val_accuracy: 0.8852 - val_loss: 0.6998\n",
            "Epoch 23/50\n",
            "\u001b[1m179/179\u001b[0m \u001b[32m━━━━━━━━━━━━━━━━━━━━\u001b[0m\u001b[37m\u001b[0m \u001b[1m2s\u001b[0m 13ms/step - accuracy: 0.9949 - loss: 0.0147 - val_accuracy: 0.8834 - val_loss: 0.7445\n",
            "Epoch 24/50\n",
            "\u001b[1m179/179\u001b[0m \u001b[32m━━━━━━━━━━━━━━━━━━━━\u001b[0m\u001b[37m\u001b[0m \u001b[1m2s\u001b[0m 12ms/step - accuracy: 0.9929 - loss: 0.0165 - val_accuracy: 0.8799 - val_loss: 0.6959\n",
            "Epoch 25/50\n",
            "\u001b[1m179/179\u001b[0m \u001b[32m━━━━━━━━━━━━━━━━━━━━\u001b[0m\u001b[37m\u001b[0m \u001b[1m2s\u001b[0m 13ms/step - accuracy: 0.9927 - loss: 0.0168 - val_accuracy: 0.8855 - val_loss: 0.7652\n",
            "Epoch 26/50\n",
            "\u001b[1m179/179\u001b[0m \u001b[32m━━━━━━━━━━━━━━━━━━━━\u001b[0m\u001b[37m\u001b[0m \u001b[1m2s\u001b[0m 13ms/step - accuracy: 0.9930 - loss: 0.0208 - val_accuracy: 0.8824 - val_loss: 0.6472\n",
            "Epoch 27/50\n",
            "\u001b[1m179/179\u001b[0m \u001b[32m━━━━━━━━━━━━━━━━━━━━\u001b[0m\u001b[37m\u001b[0m \u001b[1m3s\u001b[0m 17ms/step - accuracy: 0.9939 - loss: 0.0226 - val_accuracy: 0.8782 - val_loss: 0.6182\n",
            "Epoch 28/50\n",
            "\u001b[1m179/179\u001b[0m \u001b[32m━━━━━━━━━━━━━━━━━━━━\u001b[0m\u001b[37m\u001b[0m \u001b[1m3s\u001b[0m 15ms/step - accuracy: 0.9943 - loss: 0.0161 - val_accuracy: 0.8799 - val_loss: 0.5880\n",
            "Epoch 29/50\n",
            "\u001b[1m179/179\u001b[0m \u001b[32m━━━━━━━━━━━━━━━━━━━━\u001b[0m\u001b[37m\u001b[0m \u001b[1m3s\u001b[0m 14ms/step - accuracy: 0.9931 - loss: 0.0181 - val_accuracy: 0.8747 - val_loss: 0.7031\n",
            "Epoch 30/50\n",
            "\u001b[1m179/179\u001b[0m \u001b[32m━━━━━━━━━━━━━━━━━━━━\u001b[0m\u001b[37m\u001b[0m \u001b[1m5s\u001b[0m 13ms/step - accuracy: 0.9948 - loss: 0.0137 - val_accuracy: 0.8831 - val_loss: 0.7564\n",
            "Epoch 31/50\n",
            "\u001b[1m179/179\u001b[0m \u001b[32m━━━━━━━━━━━━━━━━━━━━\u001b[0m\u001b[37m\u001b[0m \u001b[1m3s\u001b[0m 17ms/step - accuracy: 0.9952 - loss: 0.0139 - val_accuracy: 0.8813 - val_loss: 0.8038\n",
            "Epoch 32/50\n",
            "\u001b[1m179/179\u001b[0m \u001b[32m━━━━━━━━━━━━━━━━━━━━\u001b[0m\u001b[37m\u001b[0m \u001b[1m2s\u001b[0m 13ms/step - accuracy: 0.9958 - loss: 0.0112 - val_accuracy: 0.8813 - val_loss: 0.7625\n",
            "Epoch 33/50\n",
            "\u001b[1m179/179\u001b[0m \u001b[32m━━━━━━━━━━━━━━━━━━━━\u001b[0m\u001b[37m\u001b[0m \u001b[1m3s\u001b[0m 13ms/step - accuracy: 0.9958 - loss: 0.0141 - val_accuracy: 0.8813 - val_loss: 0.7868\n",
            "Epoch 34/50\n",
            "\u001b[1m179/179\u001b[0m \u001b[32m━━━━━━━━━━━━━━━━━━━━\u001b[0m\u001b[37m\u001b[0m \u001b[1m3s\u001b[0m 13ms/step - accuracy: 0.9943 - loss: 0.0149 - val_accuracy: 0.8803 - val_loss: 0.8208\n",
            "Epoch 35/50\n",
            "\u001b[1m179/179\u001b[0m \u001b[32m━━━━━━━━━━━━━━━━━━━━\u001b[0m\u001b[37m\u001b[0m \u001b[1m2s\u001b[0m 13ms/step - accuracy: 0.9944 - loss: 0.0128 - val_accuracy: 0.8796 - val_loss: 0.8479\n",
            "Epoch 36/50\n",
            "\u001b[1m179/179\u001b[0m \u001b[32m━━━━━━━━━━━━━━━━━━━━\u001b[0m\u001b[37m\u001b[0m \u001b[1m4s\u001b[0m 19ms/step - accuracy: 0.9936 - loss: 0.0156 - val_accuracy: 0.8817 - val_loss: 0.6909\n",
            "Epoch 37/50\n",
            "\u001b[1m179/179\u001b[0m \u001b[32m━━━━━━━━━━━━━━━━━━━━\u001b[0m\u001b[37m\u001b[0m \u001b[1m2s\u001b[0m 13ms/step - accuracy: 0.9947 - loss: 0.0134 - val_accuracy: 0.8834 - val_loss: 0.7850\n",
            "Epoch 38/50\n",
            "\u001b[1m179/179\u001b[0m \u001b[32m━━━━━━━━━━━━━━━━━━━━\u001b[0m\u001b[37m\u001b[0m \u001b[1m3s\u001b[0m 13ms/step - accuracy: 0.9942 - loss: 0.0152 - val_accuracy: 0.8817 - val_loss: 0.6885\n",
            "Epoch 39/50\n",
            "\u001b[1m179/179\u001b[0m \u001b[32m━━━━━━━━━━━━━━━━━━━━\u001b[0m\u001b[37m\u001b[0m \u001b[1m2s\u001b[0m 13ms/step - accuracy: 0.9931 - loss: 0.0243 - val_accuracy: 0.8803 - val_loss: 0.6167\n",
            "Epoch 40/50\n",
            "\u001b[1m179/179\u001b[0m \u001b[32m━━━━━━━━━━━━━━━━━━━━\u001b[0m\u001b[37m\u001b[0m \u001b[1m2s\u001b[0m 13ms/step - accuracy: 0.9918 - loss: 0.0190 - val_accuracy: 0.8747 - val_loss: 0.6782\n",
            "Epoch 41/50\n",
            "\u001b[1m179/179\u001b[0m \u001b[32m━━━━━━━━━━━━━━━━━━━━\u001b[0m\u001b[37m\u001b[0m \u001b[1m3s\u001b[0m 19ms/step - accuracy: 0.9944 - loss: 0.0162 - val_accuracy: 0.8719 - val_loss: 0.5561\n",
            "Epoch 42/50\n",
            "\u001b[1m179/179\u001b[0m \u001b[32m━━━━━━━━━━━━━━━━━━━━\u001b[0m\u001b[37m\u001b[0m \u001b[1m2s\u001b[0m 13ms/step - accuracy: 0.9942 - loss: 0.0163 - val_accuracy: 0.8768 - val_loss: 0.7693\n",
            "Epoch 43/50\n",
            "\u001b[1m179/179\u001b[0m \u001b[32m━━━━━━━━━━━━━━━━━━━━\u001b[0m\u001b[37m\u001b[0m \u001b[1m2s\u001b[0m 13ms/step - accuracy: 0.9956 - loss: 0.0120 - val_accuracy: 0.8775 - val_loss: 0.7864\n",
            "Epoch 44/50\n",
            "\u001b[1m179/179\u001b[0m \u001b[32m━━━━━━━━━━━━━━━━━━━━\u001b[0m\u001b[37m\u001b[0m \u001b[1m2s\u001b[0m 13ms/step - accuracy: 0.9950 - loss: 0.0115 - val_accuracy: 0.8743 - val_loss: 0.8253\n",
            "Epoch 45/50\n",
            "\u001b[1m179/179\u001b[0m \u001b[32m━━━━━━━━━━━━━━━━━━━━\u001b[0m\u001b[37m\u001b[0m \u001b[1m2s\u001b[0m 13ms/step - accuracy: 0.9966 - loss: 0.0102 - val_accuracy: 0.8726 - val_loss: 0.8786\n",
            "Epoch 46/50\n",
            "\u001b[1m179/179\u001b[0m \u001b[32m━━━━━━━━━━━━━━━━━━━━\u001b[0m\u001b[37m\u001b[0m \u001b[1m3s\u001b[0m 17ms/step - accuracy: 0.9952 - loss: 0.0118 - val_accuracy: 0.8722 - val_loss: 0.8211\n",
            "Epoch 47/50\n",
            "\u001b[1m179/179\u001b[0m \u001b[32m━━━━━━━━━━━━━━━━━━━━\u001b[0m\u001b[37m\u001b[0m \u001b[1m3s\u001b[0m 14ms/step - accuracy: 0.9958 - loss: 0.0133 - val_accuracy: 0.8715 - val_loss: 0.8121\n",
            "Epoch 48/50\n",
            "\u001b[1m179/179\u001b[0m \u001b[32m━━━━━━━━━━━━━━━━━━━━\u001b[0m\u001b[37m\u001b[0m \u001b[1m5s\u001b[0m 14ms/step - accuracy: 0.9948 - loss: 0.0129 - val_accuracy: 0.8719 - val_loss: 0.8561\n",
            "Epoch 49/50\n",
            "\u001b[1m179/179\u001b[0m \u001b[32m━━━━━━━━━━━━━━━━━━━━\u001b[0m\u001b[37m\u001b[0m \u001b[1m2s\u001b[0m 13ms/step - accuracy: 0.9949 - loss: 0.0146 - val_accuracy: 0.8701 - val_loss: 0.8144\n",
            "Epoch 50/50\n",
            "\u001b[1m179/179\u001b[0m \u001b[32m━━━━━━━━━━━━━━━━━━━━\u001b[0m\u001b[37m\u001b[0m \u001b[1m3s\u001b[0m 16ms/step - accuracy: 0.9951 - loss: 0.0130 - val_accuracy: 0.8698 - val_loss: 0.7766\n"
          ]
        }
      ]
    },
    {
      "cell_type": "code",
      "source": [
        "plt.figure(figsize=(6,6))\n",
        "plt.plot(history.history['loss'], label='Train Loss')\n",
        "plt.plot(history.history['val_loss'], label='Val Loss')\n",
        "plt.title('Model Loss')\n",
        "plt.xlabel('Epoch')\n",
        "plt.ylabel('Loss')\n",
        "plt.legend()"
      ],
      "metadata": {
        "colab": {
          "base_uri": "https://localhost:8080/",
          "height": 581
        },
        "id": "43cYdBm-9tFc",
        "outputId": "e3ef3cd6-39d5-46ca-bbbd-cf3c86e32f1f"
      },
      "execution_count": 54,
      "outputs": [
        {
          "output_type": "execute_result",
          "data": {
            "text/plain": [
              "<matplotlib.legend.Legend at 0x7bc38f049b90>"
            ]
          },
          "metadata": {},
          "execution_count": 54
        },
        {
          "output_type": "display_data",
          "data": {
            "text/plain": [
              "<Figure size 600x600 with 1 Axes>"
            ],
            "image/png": "[encoded data removed]"
          },
          "metadata": {}
        }
      ]
    },
    {
      "cell_type": "code",
      "source": [
        "y_pred_gru = model.predict(X_test)\n",
        "y_pred_gru = np.where(y_pred_gru > 0.5, 1, 0)"
      ],
      "metadata": {
        "colab": {
          "base_uri": "https://localhost:8080/"
        },
        "id": "EZkaACDd986p",
        "outputId": "a154a809-dfc4-44ea-df12-32c5eae7416e"
      },
      "execution_count": 57,
      "outputs": [
        {
          "output_type": "stream",
          "name": "stdout",
          "text": [
            "\u001b[1m90/90\u001b[0m \u001b[32m━━━━━━━━━━━━━━━━━━━━\u001b[0m\u001b[37m\u001b[0m \u001b[1m1s\u001b[0m 5ms/step\n"
          ]
        }
      ]
    },
    {
      "cell_type": "code",
      "source": [
        "print(classification_report(y_test, y_pred_gru))"
      ],
      "metadata": {
        "colab": {
          "base_uri": "https://localhost:8080/"
        },
        "id": "jqRHXCb7-Cct",
        "outputId": "ce55aeb7-4412-48e6-c286-5fa3184a5be8"
      },
      "execution_count": 58,
      "outputs": [
        {
          "output_type": "stream",
          "name": "stdout",
          "text": [
            "              precision    recall  f1-score   support\n",
            "\n",
            "           0       0.61      0.63      0.62       478\n",
            "           1       0.93      0.92      0.92      2379\n",
            "\n",
            "    accuracy                           0.87      2857\n",
            "   macro avg       0.77      0.77      0.77      2857\n",
            "weighted avg       0.87      0.87      0.87      2857\n",
            "\n"
          ]
        }
      ]
    }
  ]
}